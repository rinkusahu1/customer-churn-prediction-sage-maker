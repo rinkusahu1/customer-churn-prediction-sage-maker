{
 "cells": [
  {
   "cell_type": "markdown",
   "id": "6eb825bb-e3c2-4838-b73c-528e1fc25735",
   "metadata": {},
   "source": [
    "# Step 4: Add a model building CI/CD pipeline\n",
    "\n",
    "In this step you create an automated CI/CD pipeline for model building using [Amazon SageMaker Projects](https://docs.aws.amazon.com/sagemaker/latest/dg/sagemaker-projects.html). \n",
    "\n",
    "![](img/six-steps-4.png)\n",
    "\n",
    "You are going to use a [SageMaker-provided MLOps project template for model building and training](https://docs.aws.amazon.com/sagemaker/latest/dg/sagemaker-projects-templates-sm.html#sagemaker-projects-templates-code-commit) to provision a CI/CD workflow automation with [AWS CodePipeline](https://aws.amazon.com/codepipeline/) and an [AWS CodeCommit](https://aws.amazon.com/codecommit/) code repository.\n",
    "\n",
    "SageMaker project templates offer you the following choice of code repositories, workflow automation tools, and pipeline stages:\n",
    "- **Code repository**: AWS CodeCommit or third-party Git repositories such as GitHub and Bitbucket\n",
    "- **CI/CD workflow automation**: AWS CodePipeline or Jenkins\n",
    "- **Pipeline stages**: Model building and training, model deployment, or both"
   ]
  },
  {
   "cell_type": "markdown",
   "id": "e4460e1c-54dd-4131-8ea1-b64c87d1bf81",
   "metadata": {
    "tags": []
   },
   "source": [
    "<div class=\"alert alert-info\"> Make sure you using <code>Python 3</code> kernel in JupyterLab for this notebook.</div>"
   ]
  },
  {
   "cell_type": "code",
   "execution_count": 51,
   "id": "42102a0b-a706-43b3-9f23-59f7084123f1",
   "metadata": {
    "tags": []
   },
   "outputs": [],
   "source": [
    "import boto3\n",
    "import sagemaker \n",
    "from time import gmtime, strftime, sleep"
   ]
  },
  {
   "cell_type": "code",
   "execution_count": 2,
   "id": "7c0dd762-ba2a-4141-b937-80cfccf98faf",
   "metadata": {
    "tags": []
   },
   "outputs": [
    {
     "name": "stdout",
     "output_type": "stream",
     "text": [
      "Stored variables and their in-db values:\n",
      "baseline_s3_url                        -> 's3://customer-churning-sage-maker/pipeline_notebo\n",
      "domain_id                              -> 'd-o9e9qxxwhi5b'\n",
      "evaluation_s3_url                      -> 's3://customer-churning-sage-maker/pipeline_notebo\n",
      "experiment_name                        -> 'from-idea-to-prod-experiment-15-11-26-05'\n",
      "input_s3_url                           -> 's3://customer-churning-sage-maker/dataset/input/b\n",
      "mlflow_arn                             -> 'arn:aws:sagemaker:ap-south-1:356652681186:mlflow-\n",
      "mlflow_name                            -> 'sage-maker-project'\n",
      "model_package_group_name               -> 'from-idea-to-prod-pipeline-model-22-09-26-41'\n",
      "output_s3_url                          -> 's3://customer-churning-sage-maker/pipeline_notebo\n",
      "pipeline_name                          -> 'from-idea-to-prod-pipeline-22-09-26-41'\n",
      "prediction_baseline_s3_url             -> 's3://customer-churning-sage-maker/pipeline_notebo\n",
      "space_name                             -> 'mlops-project-sagemaker'\n",
      "target_col                             -> 'y'\n",
      "test_s3_url                            -> 's3://customer-churning-sage-maker/pipeline_notebo\n",
      "train_s3_url                           -> 's3://customer-churning-sage-maker/pipeline_notebo\n",
      "user_profile_name                      -> 'default-1734193014347'\n",
      "validation_s3_url                      -> 's3://customer-churning-sage-maker/pipeline_notebo\n",
      "+++++++++++++++++++++++++++++++++++++++++++++++++\n",
      "[ERROR] YOU HAVE TO RUN 00-start-here notebook   \n",
      "+++++++++++++++++++++++++++++++++++++++++++++++++\n"
     ]
    }
   ],
   "source": [
    "%store -r \n",
    "\n",
    "%store\n",
    "\n",
    "try:\n",
    "    initialized\n",
    "except NameError:\n",
    "    print(\"+++++++++++++++++++++++++++++++++++++++++++++++++\")\n",
    "    print(\"[ERROR] YOU HAVE TO RUN 00-start-here notebook   \")\n",
    "    print(\"+++++++++++++++++++++++++++++++++++++++++++++++++\")"
   ]
  },
  {
   "cell_type": "code",
   "execution_count": 3,
   "id": "ceeab4df-a741-4b5d-893b-637a558d5cfa",
   "metadata": {},
   "outputs": [],
   "source": [
    "%load_ext autoreload\n",
    "%autoreload 2"
   ]
  },
  {
   "cell_type": "code",
   "execution_count": 4,
   "id": "75a037d8-23fd-4b2e-9687-af36395751b4",
   "metadata": {},
   "outputs": [],
   "source": [
    "sm = boto3.client(\"sagemaker\")"
   ]
  },
  {
   "cell_type": "markdown",
   "id": "aaeaa68c-a2aa-4da5-8577-42d7dff2067a",
   "metadata": {},
   "source": [
    "## Create an MLOps project\n",
    "⭐ You can create a project programmatically in this notebook - **Option 1** or in Studio UI - **Option 2**.\n",
    "\n",
    "Option 1 is recommended as it requires no manual input and has no dependency on the UX.</br>\n",
    "Option 2 is given to demonstrate [**Create Project** UI flow](https://docs.aws.amazon.com/sagemaker/latest/dg/sagemaker-projects-create.html)."
   ]
  },
  {
   "cell_type": "markdown",
   "id": "cd7061c4-b0f5-48a9-999c-1b0b84c8a4b9",
   "metadata": {},
   "source": [
    "### Option 1: Create project programmatically\n",
    "In this section you use `boto3` to create an MLOps project via a SageMaker API."
   ]
  },
  {
   "cell_type": "code",
   "execution_count": 6,
   "id": "1002ef46-7906-44fe-a874-78c3607d827a",
   "metadata": {
    "tags": []
   },
   "outputs": [],
   "source": [
    "sc = boto3.client(\"servicecatalog\")\n",
    "\n",
    "sc_provider_name = \"Amazon SageMaker\"\n",
    "sc_product_name = \"MLOps template for model building and training with third-party Git using CodePipeline\""
   ]
  },
  {
   "cell_type": "code",
   "execution_count": 7,
   "id": "b227975d-418a-4b48-bced-67d98e8d3ae9",
   "metadata": {},
   "outputs": [
    {
     "name": "stdout",
     "output_type": "stream",
     "text": [
      "Product ID: prod-ojrqokbynd6kq, Name: Entity resolution for smart advertising\n",
      "Product ID: prod-s6hyrqce4khrq, Name: Amazon SageMaker Privacy for NLP\n",
      "Product ID: prod-buwurr2dr75hu, Name: Amazon SageMaker for Procgen\n",
      "Product ID: prod-ga75uihdp2lcs, Name: Graph neural net models for financial classification\n",
      "Product ID: prod-yn3j7fkrqx5bk, Name: Amazon SageMaker for Battlesnake AI\n",
      "Product ID: prod-ud5343cakpcky, Name: Financial Payment Classification\n",
      "Product ID: prod-zpf7glzpcqmvs, Name: Lung Cancer Survival Prediction\n",
      "Product ID: prod-73o7rtzfx4c5i, Name: Defect Detection with Amazon SageMaker\n",
      "Product ID: prod-q3clc6dxhieis, Name: Object Detection for Bird Species\n",
      "Product ID: prod-l3thnamk2jdoy, Name: Corporate Credit Rating\n",
      "Product ID: prod-w4mfoyhpdvdy4, Name: Predictive Maintenance for Vehicle Fleets\n",
      "Product ID: prod-dykjwl76yqdae, Name: Deep Demand Forecasting with Amazon SageMaker\n",
      "Product ID: prod-sknswy5p3pr4c, Name: Churn Prediction\n",
      "Product ID: prod-efnvt6v2xn7j2, Name: Purchase Modelling with Amazon SageMaker\n",
      "Product ID: prod-gwh42sk6ihaeo, Name: Churn Prediction with Text\n",
      "Product ID: prod-pcp7mb5v6iduo, Name: Fraud detection in financial networks\n",
      "Product ID: prod-wwhpl5mqahq2m, Name: Filling in Missing Values in Tabular Records\n",
      "Product ID: prod-zy2lpibwkssva, Name: Churn Prediction for Mobile Customers with XGBoost\n",
      "Product ID: prod-nqpqnbsc7qdk2, Name: Customized Recommender System With NCF\n",
      "Product ID: prod-ehhsq5gmoy7sw, Name: Predictive maintenance using machine learning\n",
      "Product ID: prod-3wgtgdi5n2veq, Name: Zero Shot Text Classification\n",
      "Product ID: prod-jdkbp55ihetci, Name: Price Optimization\n",
      "Product ID: prod-ujk234n73oyns, Name: Explaining Credit Decisions\n",
      "Product ID: prod-hokewmzfhbdaa, Name: Fraud detection using machine learning\n",
      "Product ID: prod-mn6k2mx7intqm, Name: Document Understanding\n",
      "Product ID: prod-qczs4pbzem6k6, Name: Layout Editor Using Large Language Models\n",
      "Product ID: prod-p3b7ixaqvlpp4, Name: Retrieval augmented generation with Hugging Face\n",
      "Product ID: prod-k2r6dy76lomuq, Name: [Not supported] MLOps template for image building, model building, and model deployment\n",
      "Product ID: prod-xbpnjhggxk3hm, Name: [Not supported] MLOps template for model building and training\n",
      "Product ID: prod-yjoo6qib74xxa, Name: [Not supported] MLOps template for model building, training, and deployment\n",
      "Product ID: prod-h7jivlajgoqc4, Name: [Not supported] MLOps template for model deployment for Salesforce\n",
      "Product ID: prod-soebyoofsasy2, Name: MLOps template for model building, training, and deployment with third-party Git repositories using Jenkins\n",
      "Product ID: prod-juwnqjka7ijgs, Name: [Not supported] MLOps template for model building, training, deployment and monitoring\n",
      "Product ID: prod-mm6kn4wqekbyi, Name: MLOps template for model deployment with third-party Git using CodePipeline\n",
      "Product ID: prod-bep7yjzid7sqe, Name: [Not supported] MLOps template for model deployment\n",
      "Product ID: prod-u2locec3qnlme, Name: MLOps template for model building and training with third-party Git using CodePipeline\n",
      "Product ID: prod-ujm37igzept3o, Name: MLOps template for model building, training, and deployment with third-party Git repositories using CodePipeline\n",
      "Product ID: prod-ymj424m6pq6o2, Name: MLOps template for model building, training, deployment and monitoring with third-party git using CodePipeline\n"
     ]
    }
   ],
   "source": [
    "all_products = []\n",
    "response = sc.search_products()\n",
    "\n",
    "while response:\n",
    "    all_products.extend(response['ProductViewSummaries'])\n",
    "    next_token = response.get('NextPageToken')\n",
    "    if next_token:\n",
    "        response = sc.search_products(PageToken=next_token)\n",
    "    else:\n",
    "        break\n",
    "\n",
    "# Extract all product IDs and names\n",
    "products = [\n",
    "    {\"ProductId\": product[\"ProductId\"], \"Name\": product[\"Name\"]}\n",
    "    for product in all_products\n",
    "]\n",
    "\n",
    "# Print all product details\n",
    "for product in products:\n",
    "    print(f\"Product ID: {product['ProductId']}, Name: {product['Name']}\")"
   ]
  },
  {
   "cell_type": "code",
   "execution_count": 8,
   "id": "a30b2c04-8c60-4f67-abef-284e47072110",
   "metadata": {
    "tags": []
   },
   "outputs": [],
   "source": [
    "p_ids = [p['ProductId'] for p in sc.search_products(\n",
    "    Filters={\n",
    "        'FullTextSearch': [sc_product_name]\n",
    "    },\n",
    ")['ProductViewSummaries'] if p[\"Name\"]==sc_product_name]"
   ]
  },
  {
   "cell_type": "code",
   "execution_count": 9,
   "id": "579caafe-27c5-4a82-84c4-f364675ca7c7",
   "metadata": {
    "tags": []
   },
   "outputs": [
    {
     "data": {
      "text/plain": [
       "['prod-u2locec3qnlme']"
      ]
     },
     "execution_count": 9,
     "metadata": {},
     "output_type": "execute_result"
    }
   ],
   "source": [
    "p_ids"
   ]
  },
  {
   "cell_type": "code",
   "execution_count": 10,
   "id": "2cef972c-ff89-49fb-a498-35f8a4768d25",
   "metadata": {
    "tags": []
   },
   "outputs": [
    {
     "name": "stdout",
     "output_type": "stream",
     "text": [
      "ML Ops product id: prod-u2locec3qnlme\n"
     ]
    }
   ],
   "source": [
    "# If you get any exception from this code, go to the Option 2 and create a project in Studio UI\n",
    "if not len(p_ids):\n",
    "    raise Exception(\"No Amazon SageMaker ML Ops products found!\")\n",
    "elif len(p_ids) > 1:\n",
    "    raise Exception(\"Too many matching Amazon SageMaker ML Ops products found!\")\n",
    "else:\n",
    "    product_id = p_ids[0]\n",
    "    print(f\"ML Ops product id: {product_id}\")"
   ]
  },
  {
   "cell_type": "code",
   "execution_count": 11,
   "id": "8b51c8dc-57e7-4ff1-a137-3f4e93d9594c",
   "metadata": {
    "tags": []
   },
   "outputs": [],
   "source": [
    "provisioning_artifact_id = sorted(\n",
    "    [i for i in sc.list_provisioning_artifacts(\n",
    "        ProductId=product_id\n",
    "    )['ProvisioningArtifactDetails'] if i['Guidance']=='DEFAULT'],\n",
    "    key=lambda d: d['Name'], reverse=True)[0]['Id']"
   ]
  },
  {
   "cell_type": "code",
   "execution_count": 12,
   "id": "f65aa4b1-c848-45ce-9f51-b5c4b70175b1",
   "metadata": {
    "tags": []
   },
   "outputs": [
    {
     "data": {
      "text/plain": [
       "'pa-7aecmii2ensdk'"
      ]
     },
     "execution_count": 12,
     "metadata": {},
     "output_type": "execute_result"
    }
   ],
   "source": [
    "provisioning_artifact_id"
   ]
  },
  {
   "cell_type": "code",
   "execution_count": 13,
   "id": "ed952193-a0cf-48c8-b776-351f6452adc8",
   "metadata": {
    "tags": []
   },
   "outputs": [],
   "source": [
    "project_name = f\"model-build-{strftime('%m-%d-%H-%M-%S', gmtime())}\"\n",
    "project_parameters = [] # This SageMaker built-in project template doesn't have any parameters"
   ]
  },
  {
   "cell_type": "markdown",
   "id": "22e7f228-8ca1-4c93-8131-8901acf75165",
   "metadata": {},
   "source": [
    "Finally, create a SageMaker project from the service catalog product template:"
   ]
  },
  {
   "cell_type": "code",
   "execution_count": 14,
   "id": "4928192d-4580-4f23-ab89-749937365cfb",
   "metadata": {
    "tags": []
   },
   "outputs": [
    {
     "name": "stdout",
     "output_type": "stream",
     "text": [
      "{'ProjectArn': 'arn:aws:sagemaker:ap-south-1:356652681186:project/model-build-12-21-06-04-11', 'ProjectId': 'p-hzpq5vdjxyby', 'ResponseMetadata': {'RequestId': '5735361d-89bd-4fb3-a2a7-9a61a57a0ce7', 'HTTPStatusCode': 200, 'HTTPHeaders': {'x-amzn-requestid': '5735361d-89bd-4fb3-a2a7-9a61a57a0ce7', 'content-type': 'application/x-amz-json-1.1', 'content-length': '122', 'date': 'Sat, 21 Dec 2024 06:04:23 GMT'}, 'RetryAttempts': 0}}\n"
     ]
    }
   ],
   "source": [
    "# create SageMaker project\n",
    "r = sm.create_project(\n",
    "    ProjectName=project_name,\n",
    "    ProjectDescription=\"Model build project\",\n",
    "    ServiceCatalogProvisioningDetails={\n",
    "        'ProductId': product_id,\n",
    "        'ProvisioningArtifactId': provisioning_artifact_id,\n",
    "    },\n",
    ")\n",
    "\n",
    "print(r)\n",
    "project_id = r[\"ProjectId\"]"
   ]
  },
  {
   "cell_type": "markdown",
   "id": "a82b313e-9025-42cb-8f7a-a617ed771e3e",
   "metadata": {},
   "source": [
    "<div class=\"alert alert-info\"> 💡 <strong> Wait until project creation is completed by running the next cell</strong>\n",
    "</div>"
   ]
  },
  {
   "cell_type": "markdown",
   "id": "0afc704f",
   "metadata": {},
   "source": [
    "\n",
    "<img src=\"data:image/svg+xml;base64,Cjxzdmcgd2lkdGg9IjgwMCIgaGVpZ2h0PSIxMjUiIHZpZXdCb3g9IjAgMCA4MDAgMTI1IiB4bWxucz0iaHR0cDovL3d3dy53My5vcmcvMjAwMC9zdmciPgogICAgPGRlZnM+CiAgICAgICAgPGxpbmVhckdyYWRpZW50IGlkPSJmYWRlR3JhZGllbnQiIHgxPSIwIiB4Mj0iMSI+CiAgICAgICAgICAgIDxzdG9wIG9mZnNldD0iMCUiIHN0b3AtY29sb3I9IiNGMEYwRjAiLz4KICAgICAgICAgICAgPHN0b3Agb2Zmc2V0PSIxMDAlIiBzdG9wLWNvbG9yPSIjRjBGMEYwIiBzdG9wLW9wYWNpdHk9IjAiLz4KICAgICAgICA8L2xpbmVhckdyYWRpZW50PgogICAgICAgIDxtYXNrIGlkPSJmYWRlTWFzayI+CiAgICAgICAgICAgIDxyZWN0IHg9IjAiIHk9IjAiIHdpZHRoPSI3NTAiIGhlaWdodD0iMTI1IiBmaWxsPSJ3aGl0ZSIvPgogICAgICAgICAgICA8cmVjdCB4PSI3NTAiIHk9IjAiIHdpZHRoPSI1MCIgaGVpZ2h0PSIxMjUiIGZpbGw9InVybCgjZmFkZUdyYWRpZW50KSIvPgogICAgICAgIDwvbWFzaz4KICAgIDwvZGVmcz4KICAgIDxwYXRoIGQ9Ik0zLDUwIEE1MCw1MCAwIDAgMSA1MywzIEw3OTcsMyBMNzk3LDk3IEw5Nyw5NyBMNTAsMTE1IEwzLDk3IFoiIGZpbGw9IiNGMEYwRjAiIHN0cm9rZT0iI0UwRTBFMCIgc3Ryb2tlLXdpZHRoPSIxIiBtYXNrPSJ1cmwoI2ZhZGVNYXNrKSIvPgogICAgPGNpcmNsZSBjeD0iNTAiIGN5PSI1MCIgcj0iMzAiIGZpbGw9IiM1N2M0ZjgiIHN0cm9rZT0iIzU3YzRmOCIgc3Ryb2tlLXdpZHRoPSIxIi8+CiAgICA8Y2lyY2xlIGN4PSI1MCIgY3k9IjUwIiByPSIyNSIgZmlsbD0iI0YwRjBGMCIvPgogICAgPGxpbmUgeDE9IjUwIiB5MT0iNTAiIHgyPSI1MCIgeTI9IjMwIiBzdHJva2U9IiM1N2M0ZjgiIHN0cm9rZS13aWR0aD0iMyIgc3Ryb2tlLWxpbmVjYXA9InJvdW5kIi8+CiAgICA8bGluZSB4MT0iNTAiIHkxPSI1MCIgeDI9IjY1IiB5Mj0iNTAiIHN0cm9rZT0iIzU3YzRmOCIgc3Ryb2tlLXdpZHRoPSIzIiBzdHJva2UtbGluZWNhcD0icm91bmQiLz4KICAgIDx0ZXh0IHg9IjEwMCIgeT0iMzQiIGZvbnQtZmFtaWx5PSJBcmlhbCwgc2Fucy1zZXJpZiIgZm9udC1zaXplPSIxNCIgZmlsbD0iIzMzMzMzMyI+VGhlIG5leHQgY2VsbCBtYXkgdGFrZSBhIGZldyBtaW51dGVzIHRvIHJ1bi48L3RleHQ+Cjwvc3ZnPgo=\" alt=\"Time alert open medium\"/>"
   ]
  },
  {
   "cell_type": "code",
   "execution_count": null,
   "id": "af1af2b6-2324-41f4-8a5a-0cf178b9ec23",
   "metadata": {
    "tags": []
   },
   "outputs": [],
   "source": [
    "# Project creation takes about 3-5 min\n",
    "while sm.describe_project(ProjectName=project_name)['ProjectStatus'] != 'CreateCompleted':\n",
    "    print(\"Waiting for project creation completion\")\n",
    "    sleep(10)\n",
    "    \n",
    "print(f\"MLOps project {project_name} creation completed\")"
   ]
  },
  {
   "cell_type": "markdown",
   "id": "58ee7720",
   "metadata": {},
   "source": [
    "<img src=\"data:image/svg+xml;base64,Cjxzdmcgd2lkdGg9IjgwMCIgaGVpZ2h0PSI1MCIgdmlld0JveD0iMCAwIDgwMCA1MCIgeG1sbnM9Imh0dHA6Ly93d3cudzMub3JnLzIwMDAvc3ZnIj4KICAgIDxkZWZzPgogICAgICAgIDxsaW5lYXJHcmFkaWVudCBpZD0iZmFkZUdyYWRpZW50IiB4MT0iMCIgeDI9IjEiPgogICAgICAgICAgICA8c3RvcCBvZmZzZXQ9IjAlIiBzdG9wLWNvbG9yPSIjRjBGMEYwIi8+CiAgICAgICAgICAgIDxzdG9wIG9mZnNldD0iMTAwJSIgc3RvcC1jb2xvcj0iI0YwRjBGMCIgc3RvcC1vcGFjaXR5PSIwIi8+CiAgICAgICAgPC9saW5lYXJHcmFkaWVudD4KICAgICAgICA8bWFzayBpZD0iZmFkZU1hc2siPgogICAgICAgICAgICA8cmVjdCB4PSIwIiB5PSIwIiB3aWR0aD0iNzUwIiBoZWlnaHQ9IjUwIiBmaWxsPSJ3aGl0ZSIvPgogICAgICAgICAgICA8cmVjdCB4PSI3NTAiIHk9IjAiIHdpZHRoPSI1MCIgaGVpZ2h0PSI1MCIgZmlsbD0idXJsKCNmYWRlR3JhZGllbnQpIi8+CiAgICAgICAgPC9tYXNrPgogICAgPC9kZWZzPgogICAgPHBhdGggZD0iTTI1LDUwIFEwLDUwIDAsMjUgTDUwLDMgTDk3LDI1IEw3OTcsMjUgTDc5Nyw1MCBMMjUsNTAgWiIgZmlsbD0iI0YwRjBGMCIgc3Ryb2tlPSIjRTBFMEUwIiBzdHJva2Utd2lkdGg9IjEiIG1hc2s9InVybCgjZmFkZU1hc2spIi8+Cjwvc3ZnPgo=\" alt=\"Time alert close\"/>"
   ]
  },
  {
   "cell_type": "markdown",
   "id": "54b2bb29-1051-4ad4-a050-c5366e018f74",
   "metadata": {},
   "source": [
    "### End of Option 1: Create project programmatically\n",
    "Now you have provisioned a project template in your SageMaker environment. Navigate to the section **Configure the MLOps project**.\n",
    "\n",
    "---"
   ]
  },
  {
   "cell_type": "markdown",
   "id": "7792b450-40ea-47f8-9449-528148ae43f5",
   "metadata": {},
   "source": [
    "### Option 2: Create a project in Studio UI\n",
    "<div class=\"alert alert-info\"> 💡 <strong> Skip this section if you created a project programmatically </strong>"
   ]
  },
  {
   "cell_type": "markdown",
   "id": "26a0bcfd-94e3-4892-8199-6ca06593c0af",
   "metadata": {},
   "source": [
    "Follow the instructions in the Developer Guide – [Create a MLOps Project using Amazon SageMaker Studio or Studio Classic](https://docs.aws.amazon.com/sagemaker/latest/dg/sagemaker-projects-create.html). Choose the **Studio** option.\n",
    "\n",
    "For the template choose the **Model building and training**.\n",
    "In the **Project details** you need to provide a name and an optional project description. This template doesn't have any parameters.\n",
    "\n",
    "Choose **Create** and wait for the project to appear in the Projects list."
   ]
  },
  {
   "cell_type": "markdown",
   "id": "19f8a881-3e06-4497-8dce-e73dc6923ce4",
   "metadata": {},
   "source": [
    "### Resolve issues with project creation\n",
    "\n",
    "#### Project creation process stuck in pending\n",
    "If after 5 minutes the project creation banner is still on, close the Studio browser window and sign in Studio again.\n",
    "\n",
    "![](img/project-creation-pending.png)\n",
    "\n",
    "#### Error messages\n",
    "❗ If you see an error message similar to:\n",
    "```\n",
    "Your project couldn't be created\n",
    "Studio encountered an error when creating your project. Try recreating the project again.\n",
    "\n",
    "CodeBuild is not authorized to perform: sts:AssumeRole on arn:aws:iam::XXXX:role/service-role/AmazonSageMakerServiceCatalogProductsCodeBuildRole (Service: AWSCodeBuild; Status Code: 400; Error Code: InvalidInputException; Request ID: 4cf59a54-0c59-476a-a970-0ac656db4402; Proxy: null)\n",
    "```\n",
    "\n",
    "see steps 5-6 of [SageMaker Studio Permissions Required to Use Projects](https://docs.aws.amazon.com/sagemaker/latest/dg/sagemaker-projects-studio-updates.html). Make sure you have all required project roles listed in the **Apps** card under **Projects**. \n",
    "\n",
    "Alternatively, you can create the required roles by using the provided CloudFormation template [`cfn-templates/sagemaker-project-templates-roles.yaml`](cfn-templates/sagemaker-project-templates-roles.yaml). \n",
    "Run in the repository clone directory from the command line terminal where you have the corresponding permissions:\n",
    "\n",
    "```sh\n",
    "aws cloudformation deploy \\\n",
    "    --template-file cfn-templates/sagemaker-project-templates-roles.yaml \\\n",
    "    --stack-name sagemaker-project-template-roles \\\n",
    "    --capabilities CAPABILITY_IAM CAPABILITY_NAMED_IAM \\\n",
    "    --parameter-overrides \\\n",
    "    CreateCloudFormationRole=YES \\\n",
    "    CreateCodeBuildRole=YES \\\n",
    "    CreateCodePipelineRole=YES \\\n",
    "    CreateEventsRole=YES \\\n",
    "    CreateProductsExecutionRole=YES \n",
    "```"
   ]
  },
  {
   "cell_type": "markdown",
   "id": "d0675444-29b3-4db6-bf0c-cfec72426c41",
   "metadata": {},
   "source": [
    "### End of Option 2: Create a project in Studio UI\n",
    "Now when you have the project created, move to the section **Configure the MLOps project**.\n",
    "\n",
    "---"
   ]
  },
  {
   "cell_type": "markdown",
   "id": "976166a9-0769-4db8-924d-270b25d91acb",
   "metadata": {},
   "source": [
    "## Configure the MLOps project\n",
    "The project runs a provided default model building pipeline automatically as soon as it has been created. This pipeline is a sample placeholder in the project for your own custom pipeline. Ignore the default pipeline for the moment.\n",
    "The project templates deploys the following architecture in your AWS account:\n",
    "\n",
    "![](img/mlops-model-build-train.png)\n",
    "\n",
    "The main components are:\n",
    "1. The project template is made available through SageMaker Projects and AWS Service Catalog portfolio\n",
    "2. A CodePipeline pipeline with two stages - `Source` to download the source code from a CodeCommit repository and `Build` to create and execute a SageMaker pipeline\n",
    "3. A default SageMaker pipeline with model build, train, and register workflow\n",
    "4. A seed code repository in CodeCommit with a provided default version of a placeholder code"
   ]
  },
  {
   "cell_type": "markdown",
   "id": "7edd547c-b9ec-4902-b798-2e4ac6cae2c1",
   "metadata": {},
   "source": [
    "This project contains all the required code and the insfrastructure to implement an automated CI/CD pipeline from a pre-defined template. \n",
    "To start using the project with your pipeline, you need to complete the following steps:\n",
    "1. Clone the project CodeCommit repository to your notebook EBS volume\n",
    "2. Replace the ML pipeline template sample code with your actual pipeline construction code, as implemented in the step 3 notebook\n",
    "3. Modify the `codebuild-buildspec.yml` file to reference the correct Python module name and to set project parameters\n",
    "\n",
    "Next sections guide you through these steps. For detailed instructions and a hands-on example, refer to the development guide [SageMaker MLOps Project Walkthrough](https://docs.aws.amazon.com/sagemaker/latest/dg/sagemaker-projects-walkthrough.html).\n",
    "\n",
    "If you used the option 1 `boto3` to create an MLOps project, the `project_name` and `project_id` are set automatically. You can run the following code cell to print the values. If you followed the UI instructions to create a project, you must set the `project_name` manually."
   ]
  },
  {
   "cell_type": "code",
   "execution_count": 7,
   "id": "7ff9414b-2dbd-4aa5-a96f-e43e2159b66f",
   "metadata": {
    "tags": []
   },
   "outputs": [
    {
     "name": "stdout",
     "output_type": "stream",
     "text": [
      "Sage-maker-customer-churn-8\n",
      "p-lmcagz2oq3re\n"
     ]
    }
   ],
   "source": [
    "try:\n",
    "    print(project_name)\n",
    "    print(project_id)\n",
    "except NameError:\n",
    "    print(\"+++++++++++++++++++++++++++++++++++++++++++++++++++++++++++++++++\")\n",
    "    print(\"You must set the project_name manually in the following code cell\")\n",
    "    print(\"+++++++++++++++++++++++++++++++++++++++++++++++++++++++++++++++++\")"
   ]
  },
  {
   "cell_type": "code",
   "execution_count": 6,
   "id": "a715351f-c924-4f33-a1e2-fa855d094c70",
   "metadata": {},
   "outputs": [],
   "source": [
    "region=\"ap-south-1\""
   ]
  },
  {
   "cell_type": "code",
   "execution_count": 8,
   "id": "4d7e208b-c041-4b9d-ac59-7bc6dc072688",
   "metadata": {
    "tags": []
   },
   "outputs": [
    {
     "name": "stdout",
     "output_type": "stream",
     "text": [
      "Project folder: sagemaker-Sage-maker-customer-churn-8-p-lmcagz2oq3re-modelbuild\n",
      "Project repo URL: codecommit::ap-south-1://sagemaker-Sage-maker-customer-churn-8-p-lmcagz2oq3re-modelbuild\n"
     ]
    }
   ],
   "source": [
    "project_name = \"Sage-maker-customer-churn-8\" # Keep commented out if you used option 1 to create a project\n",
    "r = sm.describe_project(ProjectName=project_name)\n",
    "project_id = r['ProjectId']\n",
    "project_arn = r['ProjectArn']\n",
    "project_folder = f\"sagemaker-{project_name}-{project_id}-modelbuild\"\n",
    "project_repo_url = f\"codecommit::{region}://sagemaker-{project_name}-{project_id}-modelbuild\"\n",
    "\n",
    "print(f\"Project folder: {project_folder}\")\n",
    "print(f\"Project repo URL: {project_repo_url}\")"
   ]
  },
  {
   "cell_type": "markdown",
   "id": "e398fd92-8e76-43a0-9b61-3bb5291d880f",
   "metadata": {
    "tags": []
   },
   "source": [
    "### 1. Clone the project seed code to the JupyterLab file system\n",
    "You need to clone the project code from the CodeCommit repository by using terminal CLI.\n",
    "\n",
    "1. Open a new terminal window via **File** > **New** > **Terminal**\n",
    "2. Install `git-remote-codecommit` helper: ```pip install git-remote-codecommit```\n",
    "3. Clone the project repository: ```git clone <PROJECT REPO URL>```. Replace the `<PROJECT REPO URL>` with the actual project repo URL from the code cell above."
   ]
  },
  {
   "cell_type": "markdown",
   "id": "ccfe9536-fd10-4b43-9d63-bfc01090afa7",
   "metadata": {},
   "source": [
    "### 2. Replace pipeline construction code"
   ]
  },
  {
   "cell_type": "markdown",
   "id": "2982e5ab-98d0-4c44-b1c5-32dffbc1a4e3",
   "metadata": {},
   "source": [
    "The following steps are required to customize the project which contains the template code. The next code cell executes all the required steps, you don't need to do anything manually. The following text is for your information only.\n",
    "\n",
    "- The source code is in the folder `sagemaker-<project-name>-<project-id>-modelbuild`.\n",
    "- The original file `codebuild-buildspec.yml` is renamed to `codebuild-buildspec-original.yml`.\n",
    "- Project's code repository folder containing the pipeline code is renamed from `abalone` folder to `fromideatoprod`.\n",
    "- The original file with the template pipeline `pipeline.py` is renamed to `pipeline-original.py`.\n",
    "- Copy the `pipeline_steps` Python modules to the `pipelines` folder in the project's code repository folder.\n",
    "- Copy the `requirements.txt` created in the notebook 3 to the `pipelines` folder in the project's code repository folder.\n",
    "- Copy SageMaker Python SDK default configuration file `config.yaml` from the notebook 3 to the `pipelines` folder in the project's code repository folder."
   ]
  },
  {
   "cell_type": "code",
   "execution_count": 9,
   "id": "34bf23b4-0635-4303-8682-98d0543af2ed",
   "metadata": {
    "tags": []
   },
   "outputs": [
    {
     "name": "stdout",
     "output_type": "stream",
     "text": [
      "/home/sagemaker-user/amazon-sagemaker-from-idea-to-production\n"
     ]
    }
   ],
   "source": [
    "# see the workshop folder name\n",
    "!pwd"
   ]
  },
  {
   "cell_type": "code",
   "execution_count": 10,
   "id": "0d6b5651-c5b9-466f-bc63-5a02a2f2841f",
   "metadata": {
    "tags": []
   },
   "outputs": [],
   "source": [
    "# if you local path for the workshop folder is different, set the correct absolute path to the variable workshop_folder\n",
    "workshop_folder = \"amazon-sagemaker-from-idea-to-production\""
   ]
  },
  {
   "cell_type": "code",
   "execution_count": 11,
   "id": "c3e2ac0e-53fe-4e29-b362-ca4ef28aede0",
   "metadata": {
    "tags": []
   },
   "outputs": [
    {
     "name": "stdout",
     "output_type": "stream",
     "text": [
      "cp: -r not specified; omitting directory '/home/sagemaker-user/amazon-sagemaker-from-idea-to-production/pipeline_steps/__pycache__'\n",
      "cp: -r not specified; omitting directory '/home/sagemaker-user/amazon-sagemaker-from-idea-to-production/pipeline_steps/__pycache__'\n"
     ]
    }
   ],
   "source": [
    "!mkdir -p ~/{workshop_folder}/pipelines\n",
    "!mv ~/{project_folder}/codebuild-buildspec.yml ~/{project_folder}/codebuild-buildspec-original.yml\n",
    "!mv ~/{project_folder}/pipelines/abalone ~/{project_folder}/pipelines/fromideatoprod\n",
    "!mv ~/{project_folder}/pipelines/fromideatoprod/pipeline.py ~/{project_folder}/pipelines/fromideatoprod/pipeline-original.py\n",
    "!cp ~/{workshop_folder}/pipeline_steps/* ~/{project_folder}/pipelines/\n",
    "!cp ~/{workshop_folder}/pipeline_steps/* ~/{workshop_folder}/pipelines/\n",
    "!cp ~/{workshop_folder}/requirements.txt ~/{project_folder}\n",
    "!cp ~/{workshop_folder}/config.yaml ~/{project_folder}"
   ]
  },
  {
   "cell_type": "markdown",
   "id": "59e4e13d-8956-4b69-9834-53a88ea46048",
   "metadata": {},
   "source": [
    "Execute the following cell to write pipeline construction code to the file `pipeline.py`. Re-use the code from the step 3 notebook as the function `get_pipeline()`.\n",
    "\n",
    "<div style=\"border: 4px solid coral; text-align: center; margin: auto;\">\n",
    "    <p style=\" text-align: center; margin: auto;\">The pipeline construction code works with both S3 raw input dataset or feature set from the Feature Store, you need to pass a corresponding input parameter to the pipeline.\n",
    "    </p>\n",
    "</div>"
   ]
  },
  {
   "cell_type": "code",
   "execution_count": 35,
   "id": "b41859f8-a1d8-4db7-95dd-4be6991242dc",
   "metadata": {},
   "outputs": [],
   "source": [
    "mlflow_arn= \"http://ec2-13-201-192-205.ap-south-1.compute.amazonaws.com:5000\""
   ]
  },
  {
   "cell_type": "code",
   "execution_count": 36,
   "id": "8e15c1c4-e04e-45f1-8c48-6f87e46e6a13",
   "metadata": {
    "tags": []
   },
   "outputs": [
    {
     "name": "stdout",
     "output_type": "stream",
     "text": [
      "Overwriting pipeline.py\n"
     ]
    }
   ],
   "source": [
    "%%writefile pipeline.py\n",
    "\n",
    "import pandas as pd\n",
    "import json\n",
    "import boto3\n",
    "import pathlib\n",
    "import io\n",
    "import os\n",
    "import sagemaker\n",
    "import mlflow\n",
    "from time import gmtime, strftime, sleep\n",
    "from sagemaker.deserializers import CSVDeserializer\n",
    "from sagemaker.serializers import CSVSerializer\n",
    "\n",
    "from sagemaker.workflow.execution_variables import ExecutionVariables\n",
    "from sagemaker.workflow.pipeline_context import PipelineSession\n",
    "from sagemaker.xgboost.estimator import XGBoost\n",
    "from sagemaker.sklearn.processing import SKLearnProcessor\n",
    "from sagemaker.processing import (\n",
    "    ProcessingInput, \n",
    "    ProcessingOutput, \n",
    "    ScriptProcessor\n",
    ")\n",
    "from sagemaker.inputs import TrainingInput\n",
    "\n",
    "from sagemaker.workflow.pipeline import Pipeline\n",
    "from sagemaker.workflow.steps import (\n",
    "    ProcessingStep, \n",
    "    TrainingStep, \n",
    "    CreateModelStep,\n",
    "    CacheConfig\n",
    ")\n",
    "from sagemaker.workflow.check_job_config import CheckJobConfig\n",
    "from sagemaker.workflow.parameters import (\n",
    "    ParameterInteger, \n",
    "    ParameterFloat, \n",
    "    ParameterString, \n",
    "    ParameterBoolean\n",
    ")\n",
    "from sagemaker.workflow.quality_check_step import (\n",
    "    DataQualityCheckConfig,\n",
    "    ModelQualityCheckConfig,\n",
    "    QualityCheckStep,\n",
    ")\n",
    "from sagemaker.workflow.clarify_check_step import (\n",
    "    ModelBiasCheckConfig, \n",
    "    ClarifyCheckStep, \n",
    "    ModelExplainabilityCheckConfig\n",
    ")\n",
    "from sagemaker import Model\n",
    "from sagemaker.inputs import CreateModelInput\n",
    "from sagemaker.workflow.model_step import ModelStep\n",
    "from sagemaker.workflow.fail_step import FailStep\n",
    "from sagemaker.workflow.conditions import (\n",
    "    ConditionGreaterThan,\n",
    "    ConditionGreaterThanOrEqualTo\n",
    ")\n",
    "from sagemaker.workflow.parallelism_config import ParallelismConfiguration\n",
    "from sagemaker.workflow.properties import PropertyFile\n",
    "from sagemaker.workflow.condition_step import ConditionStep\n",
    "from sagemaker.workflow.functions import (\n",
    "    Join,\n",
    "    JsonGet\n",
    ")\n",
    "from sagemaker.workflow.lambda_step import (\n",
    "    LambdaStep,\n",
    "    LambdaOutput,\n",
    "    LambdaOutputTypeEnum,\n",
    ")\n",
    "from sagemaker.lambda_helper import Lambda\n",
    "from sagemaker.tuner import HyperparameterTuner, ContinuousParameter, IntegerParameter\n",
    "\n",
    "from sagemaker.model_metrics import (\n",
    "    MetricsSource, \n",
    "    ModelMetrics, \n",
    "    FileSource\n",
    ")\n",
    "from sagemaker.drift_check_baselines import DriftCheckBaselines\n",
    "from sagemaker.workflow.pipeline_definition_config import PipelineDefinitionConfig \n",
    "from sagemaker.image_uris import retrieve\n",
    "from sagemaker.workflow.function_step import step\n",
    "from sagemaker.workflow.step_outputs import get_step\n",
    "from sagemaker.model_monitor import DatasetFormat, model_monitoring\n",
    "from sagemaker.workflow.steps import ProcessingStep, CacheConfig, TuningStep\n",
    "\n",
    "from pipelines.preprocess import preprocess\n",
    "from pipelines.evaluate import evaluate\n",
    "from pipelines.register import register\n",
    "from pipelines.extract import prepare_datasets\n",
    "\n",
    "\n",
    "def get_sagemaker_client(region):\n",
    "     return boto3.Session(region_name=region).client(\"sagemaker\")\n",
    "\n",
    "def get_pipeline_session(region, bucket_name):\n",
    "    \"\"\"Gets the pipeline session based on the region.\n",
    "\n",
    "    Args:\n",
    "        region: the aws region to start the session\n",
    "        bucket_name: the bucket to use for storing the artifacts\n",
    "\n",
    "    Returns:\n",
    "        PipelineSession instance\n",
    "    \"\"\"\n",
    "\n",
    "    boto_session = boto3.Session(region_name=region)\n",
    "    sagemaker_client = boto_session.client(\"sagemaker\")\n",
    "\n",
    "    return PipelineSession(\n",
    "        boto_session=boto_session,\n",
    "        sagemaker_client=sagemaker_client,\n",
    "        default_bucket=bucket_name,\n",
    "    )\n",
    "\n",
    "def get_pipeline_custom_tags(new_tags, region, sagemaker_project_name=None):\n",
    "    try:\n",
    "        print(f\"Getting project tags for {sagemaker_project_name}\")\n",
    "        \n",
    "        sm_client = get_sagemaker_client(region)\n",
    "        \n",
    "        project_arn = sm_client.describe_project(ProjectName=sagemaker_project_name)['ProjectArn']\n",
    "        project_tags = sm_client.list_tags(ResourceArn=project_arn)['Tags']\n",
    "\n",
    "        print(f\"Project tags: {project_tags}\")\n",
    "        \n",
    "        for project_tag in project_tags:\n",
    "            new_tags.append(project_tag)\n",
    "            \n",
    "    except Exception as e:\n",
    "        print(f\"Error getting project tags: {e}\")\n",
    "        \n",
    "    return new_tags\n",
    "    \n",
    "def get_pipeline(\n",
    "    region,\n",
    "    sagemaker_project_id=None,\n",
    "    sagemaker_project_name=None,\n",
    "    role=None,\n",
    "    bucket_name=None,\n",
    "    bucket_prefix=\"from-idea-to-prod/xgboost\",\n",
    "    input_s3_url=None,\n",
    "    feature_group_name=None,\n",
    "    model_package_group_name=\"from-idea-to-prod-model-group\",\n",
    "    pipeline_name_prefix=\"from-idea-to-prod-pipeline\",\n",
    "    process_instance_type=\"ml.m5.large\",\n",
    "    train_instance_type=\"ml.m5.xlarge\",\n",
    "    test_score_threshold=0.70,\n",
    "    tracking_server_arn=None,\n",
    "):\n",
    "    \"\"\"Gets a SageMaker ML Pipeline instance.\n",
    "    \n",
    "    Returns:\n",
    "        an instance of a pipeline\n",
    "    \"\"\"\n",
    "    if feature_group_name is None and input_s3_url is None:\n",
    "        print(\"One of feature_group_name or input_s3_url must be provided. Exiting...\")\n",
    "        return None\n",
    "\n",
    "    session = get_pipeline_session(region, bucket_name)\n",
    "    sm = session.sagemaker_client\n",
    "    \n",
    "    if role is None:\n",
    "        role = sagemaker.session.get_execution_role(session)\n",
    "\n",
    "    print(f\"sagemaker version: {sagemaker.__version__}\")\n",
    "    print(f\"Execution role: {role}\")\n",
    "    print(f\"Input S3 URL: {input_s3_url}\")\n",
    "    print(f\"Feature group: {feature_group_name}\")\n",
    "    print(f\"Model package group: {model_package_group_name}\")\n",
    "    print(f\"Pipeline name prefix: {pipeline_name_prefix}\")\n",
    "    print(f\"Tracking server ARN: {tracking_server_arn}\")\n",
    "    \n",
    "    pipeline_name = f\"{pipeline_name_prefix}-{sagemaker_project_id}\"\n",
    "    experiment_name = pipeline_name\n",
    "\n",
    "    output_s3_prefix = f\"s3://{bucket_name}/{bucket_prefix}\"\n",
    "    # Set the output S3 url for model artifact\n",
    "    output_s3_url = f\"{output_s3_prefix}/output\"\n",
    "    # Set the output S3 url for feature store query results\n",
    "    output_query_location = f'{output_s3_prefix}/offline-store/query_results'\n",
    "    \n",
    "    # Set the output S3 urls for processed data\n",
    "    train_s3_url = f\"{output_s3_prefix}/train\"\n",
    "    validation_s3_url = f\"{output_s3_prefix}/validation\"\n",
    "    test_s3_url = f\"{output_s3_prefix}/test\"\n",
    "    evaluation_s3_url = f\"{output_s3_prefix}/evaluation\"\n",
    "    \n",
    "    baseline_s3_url = f\"{output_s3_prefix}/baseline\"\n",
    "    prediction_baseline_s3_url = f\"{output_s3_prefix}/prediction_baseline\"\n",
    "    \n",
    "    xgboost_image_uri = sagemaker.image_uris.retrieve(\n",
    "            \"xgboost\", \n",
    "            region=region,\n",
    "            version=\"1.5-1\"\n",
    "    )\n",
    "\n",
    "    # If no tracking server ARN, try to find an active MLflow server\n",
    "    if tracking_server_arn is None:\n",
    "        r = sm.list_mlflow_tracking_servers(\n",
    "            TrackingServerStatus='Created',\n",
    "        )['TrackingServerSummaries']\n",
    "    \n",
    "        if len(r) < 1:\n",
    "            print(\"You don't have any running MLflow servers. Exiting...\")\n",
    "            return None\n",
    "        else:\n",
    "            tracking_server_arn = r[0]['TrackingServerArn']\n",
    "            print(f\"Use the tracking server ARN:{tracking_server_arn}\")\n",
    "        \n",
    "    # Parameters for pipeline execution\n",
    "    \n",
    "    # Set processing instance type\n",
    "    process_instance_type_param = ParameterString(\n",
    "        name=\"ProcessingInstanceType\",\n",
    "        default_value=process_instance_type,\n",
    "    )\n",
    "\n",
    "    # Set training instance type\n",
    "    train_instance_type_param = ParameterString(\n",
    "        name=\"TrainingInstanceType\",\n",
    "        default_value=train_instance_type,\n",
    "    )\n",
    "\n",
    "    # Set model approval param\n",
    "    model_approval_status_param = ParameterString(\n",
    "        name=\"ModelApprovalStatus\",\n",
    "        default_value=\"PendingManualApproval\"\n",
    "    )\n",
    "\n",
    "    # Minimal threshold for model performance on the test dataset\n",
    "    test_score_threshold_param = ParameterFloat(\n",
    "        name=\"TestScoreThreshold\", \n",
    "        default_value=test_score_threshold\n",
    "    )\n",
    "\n",
    "    # S3 url for the input dataset\n",
    "    input_s3_url_param = ParameterString(\n",
    "        name=\"InputDataUrl\",\n",
    "        default_value=input_s3_url if input_s3_url else \"None\",\n",
    "    )\n",
    "\n",
    "    # Feature group name for the input featureset\n",
    "    feature_group_name_param = ParameterString(\n",
    "        name=\"FeatureGroupName\",\n",
    "        default_value=feature_group_name if feature_group_name else \"None\",\n",
    "    )\n",
    "    \n",
    "    # Model package group name\n",
    "    model_package_group_name_param = ParameterString(\n",
    "        name=\"ModelPackageGroupName\",\n",
    "        default_value=model_package_group_name,\n",
    "    )\n",
    "\n",
    "    # MLflow tracking server ARN\n",
    "    tracking_server_arn_param = ParameterString(\n",
    "        name=\"TrackingServerARN\",\n",
    "        default_value=tracking_server_arn,\n",
    "    )\n",
    "    \n",
    "    # Define step cache config\n",
    "    cache_config = CacheConfig(\n",
    "        enable_caching=True,\n",
    "        expire_after=\"P30d\" # 30-day\n",
    "    )\n",
    "\n",
    "    # Construct the pipeline\n",
    "    \n",
    "    # Get datasets\n",
    "    step_get_datasets = step(\n",
    "            preprocess, \n",
    "            role=role,\n",
    "            instance_type=process_instance_type_param,\n",
    "            name=f\"preprocess\",\n",
    "            keep_alive_period_in_seconds=3600,\n",
    "    )(\n",
    "        input_data_s3_path=input_s3_url_param,\n",
    "        output_s3_prefix=output_s3_prefix,\n",
    "        tracking_server_arn=tracking_server_arn_param,\n",
    "        experiment_name=experiment_name,\n",
    "        pipeline_run_name=ExecutionVariables.PIPELINE_EXECUTION_ID,\n",
    "    ) if input_s3_url else step(\n",
    "        prepare_datasets, \n",
    "        role=role,\n",
    "        instance_type=process_instance_type_param,\n",
    "        name=f\"extract-featureset\",\n",
    "        keep_alive_period_in_seconds=3600,\n",
    "    )(\n",
    "        feature_group_name=feature_group_name_param,\n",
    "        output_s3_prefix=output_s3_prefix,\n",
    "        query_output_s3_path=output_query_location,\n",
    "        tracking_server_arn=tracking_server_arn_param,\n",
    "        experiment_name=experiment_name,\n",
    "        pipeline_run_name=ExecutionVariables.PIPELINE_EXECUTION_ID,\n",
    "    )\n",
    "    \n",
    "    # Instantiate an XGBoost estimator object\n",
    "    estimator = sagemaker.estimator.Estimator(\n",
    "        image_uri=xgboost_image_uri,\n",
    "        role=role, \n",
    "        instance_type=train_instance_type_param,\n",
    "        instance_count=1,\n",
    "        output_path=output_s3_url,\n",
    "        sagemaker_session=session,\n",
    "        base_job_name=f\"{pipeline_name}-train\"\n",
    "    )\n",
    "\n",
    "    objective_metric_name = \"validation:auc\"\n",
    "    objective_type = \"Maximize\"\n",
    "\n",
    "    hyperparameter_ranges = {\n",
    "    \"num_round\": IntegerParameter(80,100), \n",
    "    \"max_depth\": IntegerParameter(3, 10),\n",
    "    \"eta\": ContinuousParameter(0.01, 0.3),\n",
    "    \"alpha\": ContinuousParameter(0, 5),\n",
    "    \"min_child_weight\": IntegerParameter(1, 10),\n",
    "    \"subsample\": ContinuousParameter(0.5, 1.0),\n",
    "    \"colsample_bytree\": ContinuousParameter(0.5, 1.0),\n",
    "    }\n",
    "\n",
    "    tuner = HyperparameterTuner(\n",
    "        estimator=estimator,\n",
    "        objective_metric_name=objective_metric_name,\n",
    "        hyperparameter_ranges=hyperparameter_ranges,\n",
    "        max_jobs=10,  # Total number of tuning jobs\n",
    "        max_parallel_jobs=3,  # Number of parallel tuning jobs\n",
    "        objective_type=objective_type,\n",
    "        base_tuning_job_name=f\"{pipeline_name}-tuning\",\n",
    "        early_stopping_type=\"Auto\",\n",
    "        strategy=\"Bayesian\",\n",
    "    )\n",
    "\n",
    "    \n",
    "    # train step\n",
    "    step_train = TuningStep(\n",
    "        name=f\"HPtrain\",\n",
    "        step_args=tuner.fit(\n",
    "            {\n",
    "                \"train\": TrainingInput(\n",
    "                    step_get_datasets['train_data'],\n",
    "                    content_type=\"text/csv\",\n",
    "                ),\n",
    "                \"validation\": TrainingInput(\n",
    "                    step_get_datasets['validation_data'],\n",
    "                    content_type=\"text/csv\",\n",
    "                ),\n",
    "            }\n",
    "        ),\n",
    "        cache_config=cache_config,\n",
    "    )   \n",
    "\n",
    "    model_prefix = f\"{bucket_prefix}/output\"\n",
    "    # Evaluation step\n",
    "    step_evaluate = step(\n",
    "        evaluate,\n",
    "        role=role,\n",
    "        instance_type=process_instance_type_param,\n",
    "        name=f\"evaluate\",\n",
    "        keep_alive_period_in_seconds=3600,\n",
    "    )(\n",
    "        test_x_data_s3_path=step_get_datasets['test_x_data'],\n",
    "        test_y_data_s3_path=step_get_datasets['test_y_data'],\n",
    "        model_s3_path=step_train.get_top_model_s3_uri(top_k=0,s3_bucket=bucket_name, prefix=model_prefix ),\n",
    "        output_s3_prefix=output_s3_prefix,\n",
    "        tracking_server_arn=tracking_server_arn_param,\n",
    "        experiment_name=step_get_datasets['experiment_name'],\n",
    "        pipeline_run_id=step_get_datasets['pipeline_run_id'],\n",
    "    )\n",
    "\n",
    "    # register model step\n",
    "    step_register = step(\n",
    "        register,\n",
    "        role=role,\n",
    "        instance_type=process_instance_type_param,\n",
    "        name=f\"register\",\n",
    "        keep_alive_period_in_seconds=3600,\n",
    "    )(\n",
    "        training_job_name=step_train.properties.TrainingJobName,\n",
    "        model_package_group_name=model_package_group_name_param,\n",
    "        model_approval_status=model_approval_status_param,\n",
    "        evaluation_result=step_evaluate['evaluation_result'],\n",
    "        output_s3_prefix=output_s3_url,\n",
    "        tracking_server_arn=tracking_server_arn_param,\n",
    "        experiment_name=step_get_datasets['experiment_name'],\n",
    "        pipeline_run_id=step_get_datasets['pipeline_run_id'],\n",
    "    )\n",
    "\n",
    "    # fail the pipeline execution step\n",
    "    step_fail = FailStep(\n",
    "        name=f\"fail\",\n",
    "        error_message=Join(on=\" \", values=[\"Execution failed due to AUC Score < \", test_score_threshold_param]),\n",
    "    )\n",
    "    \n",
    "    # condition to check in the condition step\n",
    "    condition_gte = ConditionGreaterThanOrEqualTo(\n",
    "            left=step_evaluate['evaluation_result']['classification_metrics']['auc_score']['value'],  \n",
    "            right=test_score_threshold_param,\n",
    "    )\n",
    "    \n",
    "    # conditional register step\n",
    "    step_conditional_register = ConditionStep(\n",
    "        name=f\"check-metrics\",\n",
    "        conditions=[condition_gte],\n",
    "        if_steps=[step_register],\n",
    "        else_steps=[step_fail],\n",
    "    )   \n",
    "\n",
    "    # Create a pipeline object\n",
    "    pipeline = Pipeline(\n",
    "        name=f\"{pipeline_name}\",\n",
    "        parameters=[\n",
    "            input_s3_url_param,\n",
    "            feature_group_name_param,\n",
    "            process_instance_type_param,\n",
    "            train_instance_type_param,\n",
    "            model_approval_status_param,\n",
    "            test_score_threshold_param,\n",
    "            model_package_group_name_param,\n",
    "            tracking_server_arn_param,\n",
    "        ],\n",
    "        steps=[step_conditional_register],\n",
    "        pipeline_definition_config=PipelineDefinitionConfig(use_custom_job_prefix=True)\n",
    "    )\n",
    "    \n",
    "    return pipeline"
   ]
  },
  {
   "cell_type": "markdown",
   "id": "1856dd52-e4e9-455a-9d80-e4f0bdd02793",
   "metadata": {},
   "source": [
    "Copy this `pipeline.py` file from the workshop folder to the `pipelines/fromideatoprod` folder in the project's code repository folder:"
   ]
  },
  {
   "cell_type": "code",
   "execution_count": 37,
   "id": "6c7032f9-7a3b-4c13-af03-70ee4476514d",
   "metadata": {
    "tags": []
   },
   "outputs": [],
   "source": [
    "!cp ~/{workshop_folder}/pipeline.py ~/{project_folder}/pipelines/fromideatoprod/"
   ]
  },
  {
   "cell_type": "markdown",
   "id": "ed281c0f-acaf-4013-926e-a3181f3eae18",
   "metadata": {},
   "source": [
    "Test the function `get_pipeline` locally to see if everything works before running as remotely."
   ]
  },
  {
   "cell_type": "code",
   "execution_count": 38,
   "id": "c045f4ab-b003-47bc-a663-940d68e1a88f",
   "metadata": {},
   "outputs": [],
   "source": [
    "from pipeline import get_pipeline"
   ]
  },
  {
   "cell_type": "code",
   "execution_count": 39,
   "id": "86d8c929-6e9e-494f-8f97-843fe0510ea0",
   "metadata": {},
   "outputs": [],
   "source": [
    "sm_role = sagemaker.get_execution_role()"
   ]
  },
  {
   "cell_type": "code",
   "execution_count": 40,
   "id": "96e6abf7-e230-4b45-a7e9-629c7b18011f",
   "metadata": {},
   "outputs": [],
   "source": [
    "session = sagemaker.Session()"
   ]
  },
  {
   "cell_type": "code",
   "execution_count": 41,
   "id": "60c2aa2e-40d9-4ab7-ae1b-b74b018abcc4",
   "metadata": {},
   "outputs": [],
   "source": [
    "bucket_name = \"customer-churning-sage-maker\"\n",
    "bucket_prefix = \"dataset\"\n",
    "input_s3_url = session.upload_data(\n",
    "    path=\"data/bank-additional/bank-additional-full.csv\",\n",
    "    bucket=bucket_name,\n",
    "    key_prefix=f\"{bucket_prefix}/input\"\n",
    ")\n"
   ]
  },
  {
   "cell_type": "code",
   "execution_count": 42,
   "id": "e6522a44-3de0-40c4-9847-5d773b506a88",
   "metadata": {},
   "outputs": [
    {
     "name": "stdout",
     "output_type": "stream",
     "text": [
      "sagemaker version: 2.237.1\n",
      "Execution role: arn:aws:iam::356652681186:role/service-role/AmazonSageMaker-ExecutionRole-20241214T214077\n",
      "Input S3 URL: s3://customer-churning-sage-maker/dataset/input/bank-additional-full.csv\n",
      "Feature group: None\n",
      "Model package group: from-idea-to-prod-pipeline-model-22-09-26-41\n",
      "Pipeline name prefix: from-idea-to-prod-pipeline-22-09-26-41\n",
      "Tracking server ARN: http://ec2-13-201-192-205.ap-south-1.compute.amazonaws.com:5000\n"
     ]
    },
    {
     "data": {
      "text/html": [
       "<pre style=\"white-space:pre;overflow-x:auto;line-height:normal;font-family:Menlo,'DejaVu Sans Mono',consolas,'Courier New',monospace\"><span style=\"color: #7fbfbf; text-decoration-color: #7fbfbf\">[12/22/24 13:21:10] </span><span style=\"color: #0069ff; text-decoration-color: #0069ff; font-weight: bold\">INFO    </span> Ignoring unnecessary instance type: <span style=\"color: #e100e1; text-decoration-color: #e100e1; font-style: italic\">None</span>.                            <a href=\"file:///opt/conda/lib/python3.11/site-packages/sagemaker/image_uris.py\" target=\"_blank\"><span style=\"color: #7f7f7f; text-decoration-color: #7f7f7f\">image_uris.py</span></a><span style=\"color: #7f7f7f; text-decoration-color: #7f7f7f\">:</span><a href=\"file:///opt/conda/lib/python3.11/site-packages/sagemaker/image_uris.py#528\" target=\"_blank\"><span style=\"color: #7f7f7f; text-decoration-color: #7f7f7f\">528</span></a>\n",
       "</pre>\n"
      ],
      "text/plain": [
       "\u001b[2;36m[12/22/24 13:21:10]\u001b[0m\u001b[2;36m \u001b[0m\u001b[1;38;2;0;105;255mINFO    \u001b[0m Ignoring unnecessary instance type: \u001b[3;38;2;225;0;225mNone\u001b[0m.                            \u001b]8;id=850606;file:///opt/conda/lib/python3.11/site-packages/sagemaker/image_uris.py\u001b\\\u001b[2mimage_uris.py\u001b[0m\u001b]8;;\u001b\\\u001b[2m:\u001b[0m\u001b]8;id=309420;file:///opt/conda/lib/python3.11/site-packages/sagemaker/image_uris.py#528\u001b\\\u001b[2m528\u001b[0m\u001b]8;;\u001b\\\n"
      ]
     },
     "metadata": {},
     "output_type": "display_data"
    },
    {
     "data": {
      "text/html": [
       "<pre style=\"white-space:pre;overflow-x:auto;line-height:normal;font-family:Menlo,'DejaVu Sans Mono',consolas,'Courier New',monospace\"><span style=\"color: #7fbfbf; text-decoration-color: #7fbfbf\">[12/22/24 13:21:11] </span><span style=\"color: #0069ff; text-decoration-color: #0069ff; font-weight: bold\">INFO    </span> SageMaker Python SDK will collect telemetry to help us better  <a href=\"file:///opt/conda/lib/python3.11/site-packages/sagemaker/telemetry/telemetry_logging.py\" target=\"_blank\"><span style=\"color: #7f7f7f; text-decoration-color: #7f7f7f\">telemetry_logging.py</span></a><span style=\"color: #7f7f7f; text-decoration-color: #7f7f7f\">:</span><a href=\"file:///opt/conda/lib/python3.11/site-packages/sagemaker/telemetry/telemetry_logging.py#90\" target=\"_blank\"><span style=\"color: #7f7f7f; text-decoration-color: #7f7f7f\">90</span></a>\n",
       "<span style=\"color: #7fbfbf; text-decoration-color: #7fbfbf\">                    </span>         understand our user's needs, diagnose issues, and deliver      <span style=\"color: #7f7f7f; text-decoration-color: #7f7f7f\">                       </span>\n",
       "<span style=\"color: #7fbfbf; text-decoration-color: #7fbfbf\">                    </span>         additional features.                                           <span style=\"color: #7f7f7f; text-decoration-color: #7f7f7f\">                       </span>\n",
       "<span style=\"color: #7fbfbf; text-decoration-color: #7fbfbf\">                    </span>         To opt out of telemetry, please disable via TelemetryOptOut    <span style=\"color: #7f7f7f; text-decoration-color: #7f7f7f\">                       </span>\n",
       "<span style=\"color: #7fbfbf; text-decoration-color: #7fbfbf\">                    </span>         parameter in SDK defaults config. For more information, refer  <span style=\"color: #7f7f7f; text-decoration-color: #7f7f7f\">                       </span>\n",
       "<span style=\"color: #7fbfbf; text-decoration-color: #7fbfbf\">                    </span>         to                                                             <span style=\"color: #7f7f7f; text-decoration-color: #7f7f7f\">                       </span>\n",
       "<span style=\"color: #7fbfbf; text-decoration-color: #7fbfbf\">                    </span>         <span style=\"color: #0069ff; text-decoration-color: #0069ff; text-decoration: underline\">https://sagemaker.readthedocs.io/en/stable/overview.html#confi</span> <span style=\"color: #7f7f7f; text-decoration-color: #7f7f7f\">                       </span>\n",
       "<span style=\"color: #7fbfbf; text-decoration-color: #7fbfbf\">                    </span>         <span style=\"color: #0069ff; text-decoration-color: #0069ff; text-decoration: underline\">guring-and-using-defaults-with-the-sagemaker-python-sdk.</span>       <span style=\"color: #7f7f7f; text-decoration-color: #7f7f7f\">                       </span>\n",
       "</pre>\n"
      ],
      "text/plain": [
       "\u001b[2;36m[12/22/24 13:21:11]\u001b[0m\u001b[2;36m \u001b[0m\u001b[1;38;2;0;105;255mINFO    \u001b[0m SageMaker Python SDK will collect telemetry to help us better  \u001b]8;id=327713;file:///opt/conda/lib/python3.11/site-packages/sagemaker/telemetry/telemetry_logging.py\u001b\\\u001b[2mtelemetry_logging.py\u001b[0m\u001b]8;;\u001b\\\u001b[2m:\u001b[0m\u001b]8;id=631557;file:///opt/conda/lib/python3.11/site-packages/sagemaker/telemetry/telemetry_logging.py#90\u001b\\\u001b[2m90\u001b[0m\u001b]8;;\u001b\\\n",
       "\u001b[2;36m                    \u001b[0m         understand our user's needs, diagnose issues, and deliver      \u001b[2m                       \u001b[0m\n",
       "\u001b[2;36m                    \u001b[0m         additional features.                                           \u001b[2m                       \u001b[0m\n",
       "\u001b[2;36m                    \u001b[0m         To opt out of telemetry, please disable via TelemetryOptOut    \u001b[2m                       \u001b[0m\n",
       "\u001b[2;36m                    \u001b[0m         parameter in SDK defaults config. For more information, refer  \u001b[2m                       \u001b[0m\n",
       "\u001b[2;36m                    \u001b[0m         to                                                             \u001b[2m                       \u001b[0m\n",
       "\u001b[2;36m                    \u001b[0m         \u001b[4;38;2;0;105;255mhttps://sagemaker.readthedocs.io/en/stable/overview.html#confi\u001b[0m \u001b[2m                       \u001b[0m\n",
       "\u001b[2;36m                    \u001b[0m         \u001b[4;38;2;0;105;255mguring-and-using-defaults-with-the-sagemaker-python-sdk.\u001b[0m       \u001b[2m                       \u001b[0m\n"
      ]
     },
     "metadata": {},
     "output_type": "display_data"
    },
    {
     "name": "stderr",
     "output_type": "stream",
     "text": [
      "/opt/conda/lib/python3.11/site-packages/sagemaker/workflow/pipeline_context.py:332: UserWarning: Running within a PipelineSession, there will be No Wait, No Logs, and No Job being started.\n",
      "  warnings.warn(\n"
     ]
    }
   ],
   "source": [
    "# If you created a feature store in the notebook 3, you can set the feature_group_name parameter instead of input_s3_url to take the data from the feature store\n",
    "p = get_pipeline(\n",
    "    region=region,\n",
    "    sagemaker_project_id=project_id,\n",
    "    sagemaker_project_name=project_name,\n",
    "    role=sm_role,\n",
    "    bucket_name=bucket_name,\n",
    "    bucket_prefix=bucket_prefix,\n",
    "    input_s3_url=input_s3_url,\n",
    "    # feature_group_name=dataset_feature_group_name,\n",
    "    model_package_group_name=model_package_group_name,\n",
    "    pipeline_name_prefix=pipeline_name,\n",
    "    process_instance_type=\"ml.m5.large\",\n",
    "    train_instance_type=\"ml.m5.xlarge\",\n",
    "    test_score_threshold=0.70,\n",
    "    tracking_server_arn=mlflow_arn,\n",
    ")"
   ]
  },
  {
   "cell_type": "code",
   "execution_count": 43,
   "id": "a6daa6e7-9994-47b5-b13a-6fc31743e6f7",
   "metadata": {},
   "outputs": [
    {
     "name": "stdout",
     "output_type": "stream",
     "text": [
      "sagemaker.config INFO - Applied value from config key = SageMaker.PythonSDK.Modules.RemoteFunction.Dependencies\n",
      "sagemaker.config INFO - Applied value from config key = SageMaker.PythonSDK.Modules.RemoteFunction.IncludeLocalWorkDir\n",
      "sagemaker.config INFO - Applied value from config key = SageMaker.PythonSDK.Modules.RemoteFunction.CustomFileFilter.IgnoreNamePatterns\n"
     ]
    },
    {
     "name": "stderr",
     "output_type": "stream",
     "text": [
      "2024-12-22 13:21:15,713 sagemaker.remote_function INFO     Uploading serialized function code to s3://sagemaker-ap-south-1-356652681186/from-idea-to-prod-pipeline-22-09-26-41-p-lmcagz2oq3re/register/2024-12-22-13-21-13-790/function\n",
      "2024-12-22 13:21:15,764 sagemaker.remote_function INFO     Uploading serialized function arguments to s3://sagemaker-ap-south-1-356652681186/from-idea-to-prod-pipeline-22-09-26-41-p-lmcagz2oq3re/register/2024-12-22-13-21-13-790/arguments\n",
      "2024-12-22 13:21:15,957 sagemaker.remote_function INFO     Copied dependencies file at './requirements.txt' to '/tmp/tmpbza3uy1h/requirements.txt'\n",
      "2024-12-22 13:21:15,981 sagemaker.remote_function INFO     Successfully uploaded dependencies and pre execution scripts to 's3://sagemaker-ap-south-1-356652681186/from-idea-to-prod-pipeline-22-09-26-41-p-lmcagz2oq3re/register/2024-12-22-13-21-13-790/pre_exec_script_and_dependencies'\n",
      "2024-12-22 13:21:16,045 sagemaker.remote_function INFO     Copied user workspace to '/tmp/tmpc0ao_2kj/temp_workspace/sagemaker_remote_function_workspace'\n",
      "2024-12-22 13:21:18,256 sagemaker.remote_function INFO     Successfully created workdir archive at '/tmp/tmpc0ao_2kj/workspace.zip'\n",
      "2024-12-22 13:21:18,823 sagemaker.remote_function INFO     Successfully uploaded workdir to 's3://sagemaker-ap-south-1-356652681186/from-idea-to-prod-pipeline-22-09-26-41-p-lmcagz2oq3re/sm_rf_user_ws/2024-12-22-13-21-13-790/workspace.zip'\n"
     ]
    },
    {
     "name": "stdout",
     "output_type": "stream",
     "text": [
      "sagemaker.config INFO - Applied value from config key = SageMaker.PythonSDK.Modules.RemoteFunction.Dependencies\n",
      "sagemaker.config INFO - Applied value from config key = SageMaker.PythonSDK.Modules.RemoteFunction.IncludeLocalWorkDir\n",
      "sagemaker.config INFO - Applied value from config key = SageMaker.PythonSDK.Modules.RemoteFunction.CustomFileFilter.IgnoreNamePatterns\n"
     ]
    },
    {
     "name": "stderr",
     "output_type": "stream",
     "text": [
      "2024-12-22 13:21:20,878 sagemaker.remote_function INFO     Uploading serialized function code to s3://sagemaker-ap-south-1-356652681186/from-idea-to-prod-pipeline-22-09-26-41-p-lmcagz2oq3re/evaluate/2024-12-22-13-21-13-790/function\n",
      "2024-12-22 13:21:20,934 sagemaker.remote_function INFO     Uploading serialized function arguments to s3://sagemaker-ap-south-1-356652681186/from-idea-to-prod-pipeline-22-09-26-41-p-lmcagz2oq3re/evaluate/2024-12-22-13-21-13-790/arguments\n",
      "2024-12-22 13:21:20,985 sagemaker.remote_function INFO     Copied dependencies file at './requirements.txt' to '/tmp/tmplmfr3bde/requirements.txt'\n",
      "2024-12-22 13:21:21,010 sagemaker.remote_function INFO     Successfully uploaded dependencies and pre execution scripts to 's3://sagemaker-ap-south-1-356652681186/from-idea-to-prod-pipeline-22-09-26-41-p-lmcagz2oq3re/evaluate/2024-12-22-13-21-13-790/pre_exec_script_and_dependencies'\n"
     ]
    },
    {
     "name": "stdout",
     "output_type": "stream",
     "text": [
      "sagemaker.config INFO - Applied value from config key = SageMaker.PythonSDK.Modules.RemoteFunction.Dependencies\n",
      "sagemaker.config INFO - Applied value from config key = SageMaker.PythonSDK.Modules.RemoteFunction.IncludeLocalWorkDir\n",
      "sagemaker.config INFO - Applied value from config key = SageMaker.PythonSDK.Modules.RemoteFunction.CustomFileFilter.IgnoreNamePatterns\n"
     ]
    },
    {
     "name": "stderr",
     "output_type": "stream",
     "text": [
      "2024-12-22 13:21:22,843 sagemaker.remote_function INFO     Uploading serialized function code to s3://sagemaker-ap-south-1-356652681186/from-idea-to-prod-pipeline-22-09-26-41-p-lmcagz2oq3re/preprocess/2024-12-22-13-21-13-790/function\n",
      "2024-12-22 13:21:22,894 sagemaker.remote_function INFO     Uploading serialized function arguments to s3://sagemaker-ap-south-1-356652681186/from-idea-to-prod-pipeline-22-09-26-41-p-lmcagz2oq3re/preprocess/2024-12-22-13-21-13-790/arguments\n",
      "2024-12-22 13:21:22,942 sagemaker.remote_function INFO     Copied dependencies file at './requirements.txt' to '/tmp/tmp1bm8tm35/requirements.txt'\n",
      "2024-12-22 13:21:22,966 sagemaker.remote_function INFO     Successfully uploaded dependencies and pre execution scripts to 's3://sagemaker-ap-south-1-356652681186/from-idea-to-prod-pipeline-22-09-26-41-p-lmcagz2oq3re/preprocess/2024-12-22-13-21-13-790/pre_exec_script_and_dependencies'\n"
     ]
    },
    {
     "data": {
      "text/plain": [
       "'{\"Version\": \"2020-12-01\", \"Metadata\": {}, \"Parameters\": [{\"Name\": \"InputDataUrl\", \"Type\": \"String\", \"DefaultValue\": \"s3://customer-churning-sage-maker/dataset/input/bank-additional-full.csv\"}, {\"Name\": \"FeatureGroupName\", \"Type\": \"String\", \"DefaultValue\": \"None\"}, {\"Name\": \"ProcessingInstanceType\", \"Type\": \"String\", \"DefaultValue\": \"ml.m5.large\"}, {\"Name\": \"TrainingInstanceType\", \"Type\": \"String\", \"DefaultValue\": \"ml.m5.xlarge\"}, {\"Name\": \"ModelApprovalStatus\", \"Type\": \"String\", \"DefaultValue\": \"PendingManualApproval\"}, {\"Name\": \"TestScoreThreshold\", \"Type\": \"Float\", \"DefaultValue\": 0.7}, {\"Name\": \"ModelPackageGroupName\", \"Type\": \"String\", \"DefaultValue\": \"from-idea-to-prod-pipeline-model-22-09-26-41\"}, {\"Name\": \"TrackingServerARN\", \"Type\": \"String\", \"DefaultValue\": \"http://ec2-13-201-192-205.ap-south-1.compute.amazonaws.com:5000\"}], \"PipelineExperimentConfig\": {\"ExperimentName\": {\"Get\": \"Execution.PipelineName\"}, \"TrialName\": {\"Get\": \"Execution.PipelineExecutionId\"}}, \"Steps\": [{\"Name\": \"check-metrics\", \"Type\": \"Condition\", \"Arguments\": {\"Conditions\": [{\"Type\": \"GreaterThanOrEqualTo\", \"LeftValue\": {\"Std:JsonGet\": {\"S3Uri\": {\"Std:Join\": {\"On\": \"/\", \"Values\": [{\"Get\": \"Steps.evaluate.OutputDataConfig.S3OutputPath\"}, \"results.json\"]}}, \"Path\": \"Result[\\'evaluation_result\\'][\\'classification_metrics\\'][\\'auc_score\\'][\\'value\\']\"}}, \"RightValue\": {\"Get\": \"Parameters.TestScoreThreshold\"}}], \"IfSteps\": [{\"Name\": \"register\", \"Type\": \"Training\", \"Arguments\": {\"TrainingJobName\": \"register\", \"RoleArn\": \"arn:aws:iam::356652681186:role/service-role/AmazonSageMaker-ExecutionRole-20241214T214077\", \"StoppingCondition\": {\"MaxRuntimeInSeconds\": 86400}, \"RetryStrategy\": {\"MaximumRetryAttempts\": 1}, \"InputDataConfig\": [{\"ChannelName\": \"sagemaker_remote_function_bootstrap\", \"DataSource\": {\"S3DataSource\": {\"S3Uri\": \"s3://sagemaker-ap-south-1-356652681186/from-idea-to-prod-pipeline-22-09-26-41-p-lmcagz2oq3re/sagemaker_remote_function_bootstrap\", \"S3DataType\": \"S3Prefix\"}}}, {\"ChannelName\": \"pre_exec_script_and_dependencies\", \"DataSource\": {\"S3DataSource\": {\"S3Uri\": \"s3://sagemaker-ap-south-1-356652681186/from-idea-to-prod-pipeline-22-09-26-41-p-lmcagz2oq3re/register/2024-12-22-13-21-13-790/pre_exec_script_and_dependencies\", \"S3DataType\": \"S3Prefix\"}}}, {\"ChannelName\": \"2024-12-22-13-21-13-790\", \"DataSource\": {\"S3DataSource\": {\"S3Uri\": \"s3://sagemaker-ap-south-1-356652681186/from-idea-to-prod-pipeline-22-09-26-41-p-lmcagz2oq3re/sm_rf_user_ws/2024-12-22-13-21-13-790/workspace.zip\", \"S3DataType\": \"S3Prefix\"}}}], \"OutputDataConfig\": {\"S3OutputPath\": {\"Std:Join\": {\"On\": \"/\", \"Values\": [\"s3://sagemaker-ap-south-1-356652681186/from-idea-to-prod-pipeline-22-09-26-41-p-lmcagz2oq3re\", {\"Get\": \"Execution.PipelineExecutionId\"}, \"register\", \"results\"]}}}, \"AlgorithmSpecification\": {\"TrainingImage\": \"245090515133.dkr.ecr.ap-south-1.amazonaws.com/sagemaker-distribution-prod@sha256:9ca35d0c481031e0fb7cec4e8a2124651d221ca71acccce4705a59692b5d741e\", \"TrainingInputMode\": \"File\", \"ContainerEntrypoint\": [\"/bin/bash\", \"/opt/ml/input/data/sagemaker_remote_function_bootstrap/job_driver.sh\"], \"ContainerArguments\": [\"--s3_base_uri\", \"s3://sagemaker-ap-south-1-356652681186/from-idea-to-prod-pipeline-22-09-26-41-p-lmcagz2oq3re\", \"--region\", \"ap-south-1\", \"--client_python_version\", \"3.11\", \"--client_sagemaker_pysdk_version\", \"2.237.1\", \"--dependency_settings\", \"{\\\\\"dependency_file\\\\\": \\\\\"requirements.txt\\\\\"}\", \"--pipeline_step_name\", \"register\", \"--pipeline_execution_id\", {\"Get\": \"Execution.PipelineExecutionId\"}, \"--func_step_s3_dir\", \"2024-12-22-13-21-13-790\", \"--property_references\", \"Execution.PipelineExecutionId\", {\"Get\": \"Execution.PipelineExecutionId\"}, \"Steps.train.TrainingJobName\", {\"Std:Join\": {\"On\": \"\", \"Values\": [{\"Get\": \"Steps.train.TrainingJobName\"}]}}, \"Parameters.ModelPackageGroupName\", {\"Get\": \"Parameters.ModelPackageGroupName\"}, \"Parameters.ModelApprovalStatus\", {\"Get\": \"Parameters.ModelApprovalStatus\"}, \"Steps.evaluate.OutputDataConfig.S3OutputPath\", {\"Std:Join\": {\"On\": \"\", \"Values\": [{\"Get\": \"Steps.evaluate.OutputDataConfig.S3OutputPath\"}]}}, \"Parameters.TrackingServerARN\", {\"Get\": \"Parameters.TrackingServerARN\"}, \"Steps.preprocess.OutputDataConfig.S3OutputPath\", {\"Std:Join\": {\"On\": \"\", \"Values\": [{\"Get\": \"Steps.preprocess.OutputDataConfig.S3OutputPath\"}]}}, \"Steps.preprocess.OutputDataConfig.S3OutputPath\", {\"Std:Join\": {\"On\": \"\", \"Values\": [{\"Get\": \"Steps.preprocess.OutputDataConfig.S3OutputPath\"}]}}]}, \"ResourceConfig\": {\"VolumeSizeInGB\": 30, \"InstanceCount\": 1, \"InstanceType\": {\"Get\": \"Parameters.ProcessingInstanceType\"}, \"KeepAlivePeriodInSeconds\": 3600}, \"EnableNetworkIsolation\": false, \"EnableInterContainerTrafficEncryption\": false, \"EnableManagedSpotTraining\": false, \"Environment\": {\"AWS_DEFAULT_REGION\": \"ap-south-1\", \"REMOTE_FUNCTION_SECRET_KEY\": \"16dafc5d3d52b4bed32b023045a3f8b021dc3753fb7e78a5069a3df44bba4c21\"}}, \"DependsOn\": [\"evaluate\", \"preprocess\"], \"DisplayName\": \"pipelines.register.register\", \"Description\": \"/home/sagemaker-user/amazon-sagemaker-from-idea-to-production/pipelines/register.py\"}], \"ElseSteps\": [{\"Name\": \"fail\", \"Type\": \"Fail\", \"Arguments\": {\"ErrorMessage\": {\"Std:Join\": {\"On\": \" \", \"Values\": [\"Execution failed due to AUC Score < \", {\"Get\": \"Parameters.TestScoreThreshold\"}]}}}}]}, \"DependsOn\": [\"evaluate\"]}, {\"Name\": \"evaluate\", \"Type\": \"Training\", \"Arguments\": {\"TrainingJobName\": \"evaluate\", \"RoleArn\": \"arn:aws:iam::356652681186:role/service-role/AmazonSageMaker-ExecutionRole-20241214T214077\", \"StoppingCondition\": {\"MaxRuntimeInSeconds\": 86400}, \"RetryStrategy\": {\"MaximumRetryAttempts\": 1}, \"InputDataConfig\": [{\"ChannelName\": \"sagemaker_remote_function_bootstrap\", \"DataSource\": {\"S3DataSource\": {\"S3Uri\": \"s3://sagemaker-ap-south-1-356652681186/from-idea-to-prod-pipeline-22-09-26-41-p-lmcagz2oq3re/sagemaker_remote_function_bootstrap\", \"S3DataType\": \"S3Prefix\"}}}, {\"ChannelName\": \"pre_exec_script_and_dependencies\", \"DataSource\": {\"S3DataSource\": {\"S3Uri\": \"s3://sagemaker-ap-south-1-356652681186/from-idea-to-prod-pipeline-22-09-26-41-p-lmcagz2oq3re/evaluate/2024-12-22-13-21-13-790/pre_exec_script_and_dependencies\", \"S3DataType\": \"S3Prefix\"}}}, {\"ChannelName\": \"2024-12-22-13-21-13-790\", \"DataSource\": {\"S3DataSource\": {\"S3Uri\": \"s3://sagemaker-ap-south-1-356652681186/from-idea-to-prod-pipeline-22-09-26-41-p-lmcagz2oq3re/sm_rf_user_ws/2024-12-22-13-21-13-790\", \"S3DataType\": \"S3Prefix\"}}}], \"OutputDataConfig\": {\"S3OutputPath\": {\"Std:Join\": {\"On\": \"/\", \"Values\": [\"s3://sagemaker-ap-south-1-356652681186/from-idea-to-prod-pipeline-22-09-26-41-p-lmcagz2oq3re\", {\"Get\": \"Execution.PipelineExecutionId\"}, \"evaluate\", \"results\"]}}}, \"AlgorithmSpecification\": {\"TrainingImage\": \"245090515133.dkr.ecr.ap-south-1.amazonaws.com/sagemaker-distribution-prod@sha256:9ca35d0c481031e0fb7cec4e8a2124651d221ca71acccce4705a59692b5d741e\", \"TrainingInputMode\": \"File\", \"ContainerEntrypoint\": [\"/bin/bash\", \"/opt/ml/input/data/sagemaker_remote_function_bootstrap/job_driver.sh\"], \"ContainerArguments\": [\"--s3_base_uri\", \"s3://sagemaker-ap-south-1-356652681186/from-idea-to-prod-pipeline-22-09-26-41-p-lmcagz2oq3re\", \"--region\", \"ap-south-1\", \"--client_python_version\", \"3.11\", \"--client_sagemaker_pysdk_version\", \"2.237.1\", \"--dependency_settings\", \"{\\\\\"dependency_file\\\\\": \\\\\"requirements.txt\\\\\"}\", \"--pipeline_step_name\", \"evaluate\", \"--pipeline_execution_id\", {\"Get\": \"Execution.PipelineExecutionId\"}, \"--func_step_s3_dir\", \"2024-12-22-13-21-13-790\", \"--property_references\", \"Execution.PipelineExecutionId\", {\"Get\": \"Execution.PipelineExecutionId\"}, \"Steps.preprocess.OutputDataConfig.S3OutputPath\", {\"Std:Join\": {\"On\": \"\", \"Values\": [{\"Get\": \"Steps.preprocess.OutputDataConfig.S3OutputPath\"}]}}, \"Steps.preprocess.OutputDataConfig.S3OutputPath\", {\"Std:Join\": {\"On\": \"\", \"Values\": [{\"Get\": \"Steps.preprocess.OutputDataConfig.S3OutputPath\"}]}}, \"Steps.train.ModelArtifacts.S3ModelArtifacts\", {\"Std:Join\": {\"On\": \"\", \"Values\": [{\"Get\": \"Steps.train.ModelArtifacts.S3ModelArtifacts\"}]}}, \"Parameters.TrackingServerARN\", {\"Get\": \"Parameters.TrackingServerARN\"}, \"Steps.preprocess.OutputDataConfig.S3OutputPath\", {\"Std:Join\": {\"On\": \"\", \"Values\": [{\"Get\": \"Steps.preprocess.OutputDataConfig.S3OutputPath\"}]}}, \"Steps.preprocess.OutputDataConfig.S3OutputPath\", {\"Std:Join\": {\"On\": \"\", \"Values\": [{\"Get\": \"Steps.preprocess.OutputDataConfig.S3OutputPath\"}]}}, \"--serialize_output_to_json\", \"true\"]}, \"ResourceConfig\": {\"VolumeSizeInGB\": 30, \"InstanceCount\": 1, \"InstanceType\": {\"Get\": \"Parameters.ProcessingInstanceType\"}, \"KeepAlivePeriodInSeconds\": 3600}, \"EnableNetworkIsolation\": false, \"EnableInterContainerTrafficEncryption\": false, \"EnableManagedSpotTraining\": false, \"Environment\": {\"AWS_DEFAULT_REGION\": \"ap-south-1\", \"REMOTE_FUNCTION_SECRET_KEY\": \"16dafc5d3d52b4bed32b023045a3f8b021dc3753fb7e78a5069a3df44bba4c21\"}}, \"DependsOn\": [\"preprocess\"], \"DisplayName\": \"pipelines.evaluate.evaluate\", \"Description\": \"/home/sagemaker-user/amazon-sagemaker-from-idea-to-production/pipelines/evaluate.py\"}, {\"Name\": \"preprocess\", \"Type\": \"Training\", \"Arguments\": {\"TrainingJobName\": \"preprocess\", \"RoleArn\": \"arn:aws:iam::356652681186:role/service-role/AmazonSageMaker-ExecutionRole-20241214T214077\", \"StoppingCondition\": {\"MaxRuntimeInSeconds\": 86400}, \"RetryStrategy\": {\"MaximumRetryAttempts\": 1}, \"InputDataConfig\": [{\"ChannelName\": \"sagemaker_remote_function_bootstrap\", \"DataSource\": {\"S3DataSource\": {\"S3Uri\": \"s3://sagemaker-ap-south-1-356652681186/from-idea-to-prod-pipeline-22-09-26-41-p-lmcagz2oq3re/sagemaker_remote_function_bootstrap\", \"S3DataType\": \"S3Prefix\"}}}, {\"ChannelName\": \"pre_exec_script_and_dependencies\", \"DataSource\": {\"S3DataSource\": {\"S3Uri\": \"s3://sagemaker-ap-south-1-356652681186/from-idea-to-prod-pipeline-22-09-26-41-p-lmcagz2oq3re/preprocess/2024-12-22-13-21-13-790/pre_exec_script_and_dependencies\", \"S3DataType\": \"S3Prefix\"}}}, {\"ChannelName\": \"2024-12-22-13-21-13-790\", \"DataSource\": {\"S3DataSource\": {\"S3Uri\": \"s3://sagemaker-ap-south-1-356652681186/from-idea-to-prod-pipeline-22-09-26-41-p-lmcagz2oq3re/sm_rf_user_ws/2024-12-22-13-21-13-790\", \"S3DataType\": \"S3Prefix\"}}}], \"OutputDataConfig\": {\"S3OutputPath\": {\"Std:Join\": {\"On\": \"/\", \"Values\": [\"s3://sagemaker-ap-south-1-356652681186/from-idea-to-prod-pipeline-22-09-26-41-p-lmcagz2oq3re\", {\"Get\": \"Execution.PipelineExecutionId\"}, \"preprocess\", \"results\"]}}}, \"AlgorithmSpecification\": {\"TrainingImage\": \"245090515133.dkr.ecr.ap-south-1.amazonaws.com/sagemaker-distribution-prod@sha256:9ca35d0c481031e0fb7cec4e8a2124651d221ca71acccce4705a59692b5d741e\", \"TrainingInputMode\": \"File\", \"ContainerEntrypoint\": [\"/bin/bash\", \"/opt/ml/input/data/sagemaker_remote_function_bootstrap/job_driver.sh\"], \"ContainerArguments\": [\"--s3_base_uri\", \"s3://sagemaker-ap-south-1-356652681186/from-idea-to-prod-pipeline-22-09-26-41-p-lmcagz2oq3re\", \"--region\", \"ap-south-1\", \"--client_python_version\", \"3.11\", \"--client_sagemaker_pysdk_version\", \"2.237.1\", \"--dependency_settings\", \"{\\\\\"dependency_file\\\\\": \\\\\"requirements.txt\\\\\"}\", \"--pipeline_step_name\", \"preprocess\", \"--pipeline_execution_id\", {\"Get\": \"Execution.PipelineExecutionId\"}, \"--func_step_s3_dir\", \"2024-12-22-13-21-13-790\", \"--property_references\", \"Execution.PipelineExecutionId\", {\"Get\": \"Execution.PipelineExecutionId\"}, \"Parameters.InputDataUrl\", {\"Get\": \"Parameters.InputDataUrl\"}, \"Parameters.TrackingServerARN\", {\"Get\": \"Parameters.TrackingServerARN\"}, \"Execution.PipelineExecutionId\", {\"Get\": \"Execution.PipelineExecutionId\"}, \"--serialize_output_to_json\", \"true\"]}, \"ResourceConfig\": {\"VolumeSizeInGB\": 30, \"InstanceCount\": 1, \"InstanceType\": {\"Get\": \"Parameters.ProcessingInstanceType\"}, \"KeepAlivePeriodInSeconds\": 3600}, \"EnableNetworkIsolation\": false, \"EnableInterContainerTrafficEncryption\": false, \"EnableManagedSpotTraining\": false, \"Environment\": {\"AWS_DEFAULT_REGION\": \"ap-south-1\", \"REMOTE_FUNCTION_SECRET_KEY\": \"16dafc5d3d52b4bed32b023045a3f8b021dc3753fb7e78a5069a3df44bba4c21\"}}, \"DisplayName\": \"pipelines.preprocess.preprocess\", \"Description\": \"/home/sagemaker-user/amazon-sagemaker-from-idea-to-production/pipelines/preprocess.py\"}, {\"Name\": \"train\", \"Type\": \"Training\", \"Arguments\": {\"AlgorithmSpecification\": {\"TrainingInputMode\": \"File\", \"TrainingImage\": \"720646828776.dkr.ecr.ap-south-1.amazonaws.com/sagemaker-xgboost:1.5-1\"}, \"OutputDataConfig\": {\"S3OutputPath\": \"s3://customer-churning-sage-maker/dataset/output\"}, \"TrainingJobName\": \"from-idea-to-prod-pipeline-22-09-26-41-\", \"StoppingCondition\": {\"MaxRuntimeInSeconds\": 86400}, \"ResourceConfig\": {\"VolumeSizeInGB\": 30, \"InstanceCount\": 1, \"InstanceType\": {\"Get\": \"Parameters.TrainingInstanceType\"}}, \"RoleArn\": \"arn:aws:iam::356652681186:role/service-role/AmazonSageMaker-ExecutionRole-20241214T214077\", \"InputDataConfig\": [{\"DataSource\": {\"S3DataSource\": {\"S3DataType\": \"S3Prefix\", \"S3Uri\": {\"Std:JsonGet\": {\"S3Uri\": {\"Std:Join\": {\"On\": \"/\", \"Values\": [{\"Get\": \"Steps.preprocess.OutputDataConfig.S3OutputPath\"}, \"results.json\"]}}, \"Path\": \"Result[\\'train_data\\']\"}}, \"S3DataDistributionType\": \"FullyReplicated\"}}, \"ContentType\": \"text/csv\", \"ChannelName\": \"train\"}, {\"DataSource\": {\"S3DataSource\": {\"S3DataType\": \"S3Prefix\", \"S3Uri\": {\"Std:JsonGet\": {\"S3Uri\": {\"Std:Join\": {\"On\": \"/\", \"Values\": [{\"Get\": \"Steps.preprocess.OutputDataConfig.S3OutputPath\"}, \"results.json\"]}}, \"Path\": \"Result[\\'validation_data\\']\"}}, \"S3DataDistributionType\": \"FullyReplicated\"}}, \"ContentType\": \"text/csv\", \"ChannelName\": \"validation\"}], \"HyperParameters\": {\"num_round\": \"100\", \"max_depth\": \"3\", \"eta\": \"0.5\", \"alpha\": \"2.5\", \"objective\": \"binary:logistic\", \"eval_metric\": \"auc\", \"subsample\": \"0.8\", \"colsample_bytree\": \"0.8\", \"min_child_weight\": \"3\", \"early_stopping_rounds\": \"10\", \"verbosity\": \"1\"}, \"DebugHookConfig\": {\"S3OutputPath\": \"s3://customer-churning-sage-maker/dataset/output\", \"CollectionConfigurations\": []}, \"ProfilerConfig\": {\"S3OutputPath\": \"s3://customer-churning-sage-maker/dataset/output\", \"DisableProfiler\": false}}, \"CacheConfig\": {\"Enabled\": true, \"ExpireAfter\": \"P30d\"}, \"DependsOn\": [\"preprocess\"]}]}'"
      ]
     },
     "execution_count": 43,
     "metadata": {},
     "output_type": "execute_result"
    }
   ],
   "source": [
    "p.definition()"
   ]
  },
  {
   "cell_type": "code",
   "execution_count": 44,
   "id": "06917d7a-d058-40d5-9baa-23a69ee612ff",
   "metadata": {},
   "outputs": [
    {
     "name": "stderr",
     "output_type": "stream",
     "text": [
      "2024-12-22 13:21:24,254 sagemaker.remote_function INFO     Uploading serialized function code to s3://sagemaker-ap-south-1-356652681186/from-idea-to-prod-pipeline-22-09-26-41-p-lmcagz2oq3re/register/2024-12-22-13-21-24-254/function\n",
      "2024-12-22 13:21:24,305 sagemaker.remote_function INFO     Uploading serialized function arguments to s3://sagemaker-ap-south-1-356652681186/from-idea-to-prod-pipeline-22-09-26-41-p-lmcagz2oq3re/register/2024-12-22-13-21-24-254/arguments\n",
      "2024-12-22 13:21:24,456 sagemaker.remote_function INFO     Copied dependencies file at './requirements.txt' to '/tmp/tmpcdgxzahm/requirements.txt'\n",
      "2024-12-22 13:21:24,478 sagemaker.remote_function INFO     Successfully uploaded dependencies and pre execution scripts to 's3://sagemaker-ap-south-1-356652681186/from-idea-to-prod-pipeline-22-09-26-41-p-lmcagz2oq3re/register/2024-12-22-13-21-24-254/pre_exec_script_and_dependencies'\n",
      "2024-12-22 13:21:24,535 sagemaker.remote_function INFO     Copied user workspace to '/tmp/tmp6niz9v8o/temp_workspace/sagemaker_remote_function_workspace'\n",
      "2024-12-22 13:21:26,653 sagemaker.remote_function INFO     Successfully created workdir archive at '/tmp/tmp6niz9v8o/workspace.zip'\n",
      "2024-12-22 13:21:27,244 sagemaker.remote_function INFO     Successfully uploaded workdir to 's3://sagemaker-ap-south-1-356652681186/from-idea-to-prod-pipeline-22-09-26-41-p-lmcagz2oq3re/sm_rf_user_ws/2024-12-22-13-21-24-254/workspace.zip'\n",
      "2024-12-22 13:21:27,272 sagemaker.remote_function INFO     Uploading serialized function code to s3://sagemaker-ap-south-1-356652681186/from-idea-to-prod-pipeline-22-09-26-41-p-lmcagz2oq3re/evaluate/2024-12-22-13-21-24-254/function\n",
      "2024-12-22 13:21:27,320 sagemaker.remote_function INFO     Uploading serialized function arguments to s3://sagemaker-ap-south-1-356652681186/from-idea-to-prod-pipeline-22-09-26-41-p-lmcagz2oq3re/evaluate/2024-12-22-13-21-24-254/arguments\n",
      "2024-12-22 13:21:27,400 sagemaker.remote_function INFO     Copied dependencies file at './requirements.txt' to '/tmp/tmpchpnshb7/requirements.txt'\n",
      "2024-12-22 13:21:27,424 sagemaker.remote_function INFO     Successfully uploaded dependencies and pre execution scripts to 's3://sagemaker-ap-south-1-356652681186/from-idea-to-prod-pipeline-22-09-26-41-p-lmcagz2oq3re/evaluate/2024-12-22-13-21-24-254/pre_exec_script_and_dependencies'\n",
      "2024-12-22 13:21:27,426 sagemaker.remote_function INFO     Uploading serialized function code to s3://sagemaker-ap-south-1-356652681186/from-idea-to-prod-pipeline-22-09-26-41-p-lmcagz2oq3re/preprocess/2024-12-22-13-21-24-254/function\n",
      "2024-12-22 13:21:27,475 sagemaker.remote_function INFO     Uploading serialized function arguments to s3://sagemaker-ap-south-1-356652681186/from-idea-to-prod-pipeline-22-09-26-41-p-lmcagz2oq3re/preprocess/2024-12-22-13-21-24-254/arguments\n",
      "2024-12-22 13:21:27,533 sagemaker.remote_function INFO     Copied dependencies file at './requirements.txt' to '/tmp/tmp9737vjq7/requirements.txt'\n",
      "2024-12-22 13:21:27,556 sagemaker.remote_function INFO     Successfully uploaded dependencies and pre execution scripts to 's3://sagemaker-ap-south-1-356652681186/from-idea-to-prod-pipeline-22-09-26-41-p-lmcagz2oq3re/preprocess/2024-12-22-13-21-24-254/pre_exec_script_and_dependencies'\n",
      "2024-12-22 13:21:29,234 sagemaker.remote_function INFO     Uploading serialized function code to s3://sagemaker-ap-south-1-356652681186/from-idea-to-prod-pipeline-22-09-26-41-p-lmcagz2oq3re/register/2024-12-22-13-21-29-234/function\n",
      "2024-12-22 13:21:29,287 sagemaker.remote_function INFO     Uploading serialized function arguments to s3://sagemaker-ap-south-1-356652681186/from-idea-to-prod-pipeline-22-09-26-41-p-lmcagz2oq3re/register/2024-12-22-13-21-29-234/arguments\n",
      "2024-12-22 13:21:29,485 sagemaker.remote_function INFO     Copied dependencies file at './requirements.txt' to '/tmp/tmpik35920l/requirements.txt'\n",
      "2024-12-22 13:21:29,506 sagemaker.remote_function INFO     Successfully uploaded dependencies and pre execution scripts to 's3://sagemaker-ap-south-1-356652681186/from-idea-to-prod-pipeline-22-09-26-41-p-lmcagz2oq3re/register/2024-12-22-13-21-29-234/pre_exec_script_and_dependencies'\n",
      "2024-12-22 13:21:29,559 sagemaker.remote_function INFO     Copied user workspace to '/tmp/tmpf359njk1/temp_workspace/sagemaker_remote_function_workspace'\n",
      "2024-12-22 13:21:31,947 sagemaker.remote_function INFO     Successfully created workdir archive at '/tmp/tmpf359njk1/workspace.zip'\n",
      "2024-12-22 13:21:32,458 sagemaker.remote_function INFO     Successfully uploaded workdir to 's3://sagemaker-ap-south-1-356652681186/from-idea-to-prod-pipeline-22-09-26-41-p-lmcagz2oq3re/sm_rf_user_ws/2024-12-22-13-21-29-234/workspace.zip'\n",
      "2024-12-22 13:21:32,480 sagemaker.remote_function INFO     Uploading serialized function code to s3://sagemaker-ap-south-1-356652681186/from-idea-to-prod-pipeline-22-09-26-41-p-lmcagz2oq3re/evaluate/2024-12-22-13-21-29-234/function\n",
      "2024-12-22 13:21:32,526 sagemaker.remote_function INFO     Uploading serialized function arguments to s3://sagemaker-ap-south-1-356652681186/from-idea-to-prod-pipeline-22-09-26-41-p-lmcagz2oq3re/evaluate/2024-12-22-13-21-29-234/arguments\n",
      "2024-12-22 13:21:32,575 sagemaker.remote_function INFO     Copied dependencies file at './requirements.txt' to '/tmp/tmpn2f7rg4_/requirements.txt'\n",
      "2024-12-22 13:21:32,609 sagemaker.remote_function INFO     Successfully uploaded dependencies and pre execution scripts to 's3://sagemaker-ap-south-1-356652681186/from-idea-to-prod-pipeline-22-09-26-41-p-lmcagz2oq3re/evaluate/2024-12-22-13-21-29-234/pre_exec_script_and_dependencies'\n",
      "2024-12-22 13:21:32,611 sagemaker.remote_function INFO     Uploading serialized function code to s3://sagemaker-ap-south-1-356652681186/from-idea-to-prod-pipeline-22-09-26-41-p-lmcagz2oq3re/preprocess/2024-12-22-13-21-29-234/function\n",
      "2024-12-22 13:21:32,667 sagemaker.remote_function INFO     Uploading serialized function arguments to s3://sagemaker-ap-south-1-356652681186/from-idea-to-prod-pipeline-22-09-26-41-p-lmcagz2oq3re/preprocess/2024-12-22-13-21-29-234/arguments\n",
      "2024-12-22 13:21:32,750 sagemaker.remote_function INFO     Copied dependencies file at './requirements.txt' to '/tmp/tmpvk515e45/requirements.txt'\n",
      "2024-12-22 13:21:32,773 sagemaker.remote_function INFO     Successfully uploaded dependencies and pre execution scripts to 's3://sagemaker-ap-south-1-356652681186/from-idea-to-prod-pipeline-22-09-26-41-p-lmcagz2oq3re/preprocess/2024-12-22-13-21-29-234/pre_exec_script_and_dependencies'\n"
     ]
    },
    {
     "data": {
      "text/plain": [
       "{'PipelineArn': 'arn:aws:sagemaker:ap-south-1:356652681186:pipeline/from-idea-to-prod-pipeline-22-09-26-41-p-lmcagz2oq3re',\n",
       " 'ResponseMetadata': {'RequestId': 'e54bdc49-cfef-4ccc-a66b-9c68c6dd39d8',\n",
       "  'HTTPStatusCode': 200,\n",
       "  'HTTPHeaders': {'x-amzn-requestid': 'e54bdc49-cfef-4ccc-a66b-9c68c6dd39d8',\n",
       "   'content-type': 'application/x-amz-json-1.1',\n",
       "   'content-length': '122',\n",
       "   'date': 'Sun, 22 Dec 2024 13:21:33 GMT'},\n",
       "  'RetryAttempts': 0}}"
      ]
     },
     "execution_count": 44,
     "metadata": {},
     "output_type": "execute_result"
    }
   ],
   "source": [
    "p.upsert(role_arn=sm_role)"
   ]
  },
  {
   "cell_type": "markdown",
   "id": "dc05f302-9bbb-4895-aa7c-1e4b4dbbf435",
   "metadata": {},
   "source": [
    "To see the created pipeline in the Studio UI, click on the link constructed by the code cell below:"
   ]
  },
  {
   "cell_type": "code",
   "execution_count": 45,
   "id": "2b9f1db1-cb43-4c84-849f-532db4c1227a",
   "metadata": {},
   "outputs": [
    {
     "data": {
      "text/html": [
       "<b>See <a target=\"top\" href=\"https://studio-d-o9e9qxxwhi5b.studio.ap-south-1.sagemaker.aws/pipelines/from-idea-to-prod-pipeline-22-09-26-41-p-lmcagz2oq3re/graph\">the pipeline</a> in the Studio UI</b>"
      ],
      "text/plain": [
       "<IPython.core.display.HTML object>"
      ]
     },
     "metadata": {},
     "output_type": "display_data"
    }
   ],
   "source": [
    "from IPython.display import HTML\n",
    "\n",
    "# Show the pipeline link\n",
    "display(\n",
    "    HTML('<b>See <a target=\"top\" href=\"https://studio-{}.studio.{}.sagemaker.aws/pipelines/{}/graph\">the pipeline</a> in the Studio UI</b>'.format(\n",
    "            domain_id, region, p.describe()['PipelineName']))\n",
    ")"
   ]
  },
  {
   "cell_type": "markdown",
   "id": "204a1f87-6718-4350-944d-51b340e93fc2",
   "metadata": {},
   "source": [
    "At this point you have tested locally that the pipeline construction code works and it creates a pipeline. You can see this pipeline in Studio **Pipelines** widget. Now you ready to create a CI/CD pipeline."
   ]
  },
  {
   "cell_type": "markdown",
   "id": "3dd662c7-0411-4b2f-9234-e60ba81e2bc0",
   "metadata": {},
   "source": [
    "#### Attach the model package group to the project\n",
    "Project-owned resources are automatically tagged with `sagemaker:project-name` and `sagemaker:project-id` tags for cost control, attribute-based security control, and governance. \n",
    "Since the model package group already exists in the model registry, you need to tag it to attach to this project. The following code cell calls `AddTags` API to set project tags to the model package group."
   ]
  },
  {
   "cell_type": "code",
   "execution_count": 46,
   "id": "c6d167d8-10d0-4799-879c-900672e62f06",
   "metadata": {},
   "outputs": [
    {
     "data": {
      "text/plain": [
       "'from-idea-to-prod-pipeline-model-22-09-26-41'"
      ]
     },
     "execution_count": 46,
     "metadata": {},
     "output_type": "execute_result"
    }
   ],
   "source": [
    "model_package_group_name"
   ]
  },
  {
   "cell_type": "code",
   "execution_count": 27,
   "id": "ce68cf6b-659e-47d1-a9cf-639fe7ec5791",
   "metadata": {},
   "outputs": [],
   "source": [
    "response = sm.create_model_package_group(\n",
    "    ModelPackageGroupName=model_package_group_name,\n",
    "    ModelPackageGroupDescription='A group for customer churn prediction model versions',\n",
    "    Tags=[\n",
    "        {'Key': 'Environment', 'Value': 'Production'},\n",
    "        {'Key': 'Team', 'Value': 'ML'}\n",
    "    ]\n",
    ")"
   ]
  },
  {
   "cell_type": "code",
   "execution_count": 47,
   "id": "f74be4dc-c7ed-4fc0-918d-851caaf8fa78",
   "metadata": {
    "tags": []
   },
   "outputs": [
    {
     "name": "stdout",
     "output_type": "stream",
     "text": [
      "Adding tags Sage-maker-customer-churn-8 and p-lmcagz2oq3re for model package group arn:aws:sagemaker:ap-south-1:356652681186:model-package-group/from-idea-to-prod-pipeline-model-22-09-26-41\n",
      "{'Tags': [{'Key': 'sagemaker:project-name', 'Value': 'Sage-maker-customer-churn-8'}, {'Key': 'sagemaker:project-id', 'Value': 'p-lmcagz2oq3re'}], 'ResponseMetadata': {'RequestId': 'e86fde09-eaef-4d83-b1cc-a20901868f9d', 'HTTPStatusCode': 200, 'HTTPHeaders': {'x-amzn-requestid': 'e86fde09-eaef-4d83-b1cc-a20901868f9d', 'content-type': 'application/x-amz-json-1.1', 'content-length': '137', 'date': 'Sun, 22 Dec 2024 13:22:19 GMT'}, 'RetryAttempts': 0}}\n"
     ]
    },
    {
     "data": {
      "text/plain": [
       "[{'Key': 'sagemaker:project-name', 'Value': 'Sage-maker-customer-churn-8'},\n",
       " {'Key': 'sagemaker:user-profile-arn',\n",
       "  'Value': 'arn:aws:sagemaker:ap-south-1:356652681186:user-profile/d-o9e9qxxwhi5b/default-1734193014347'},\n",
       " {'Key': 'sagemaker:domain-arn',\n",
       "  'Value': 'arn:aws:sagemaker:ap-south-1:356652681186:domain/d-o9e9qxxwhi5b'},\n",
       " {'Key': 'sagemaker:space-arn',\n",
       "  'Value': 'arn:aws:sagemaker:ap-south-1:356652681186:space/d-o9e9qxxwhi5b/mlops-project-sagemaker'},\n",
       " {'Key': 'Environment', 'Value': 'Production'},\n",
       " {'Key': 'Team', 'Value': 'ML'},\n",
       " {'Key': 'sagemaker:project-id', 'Value': 'p-lmcagz2oq3re'}]"
      ]
     },
     "execution_count": 47,
     "metadata": {},
     "output_type": "execute_result"
    }
   ],
   "source": [
    "model_package_group_arn = sm.describe_model_package_group(ModelPackageGroupName=model_package_group_name).get(\"ModelPackageGroupArn\")\n",
    "\n",
    "if model_package_group_arn:\n",
    "    print(f\"Adding tags {project_arn.split('/')[-1]} and {project_id} for model package group {model_package_group_arn}\")\n",
    "    r = sm.add_tags(\n",
    "        ResourceArn=model_package_group_arn,\n",
    "        Tags=[\n",
    "            {\n",
    "                'Key': 'sagemaker:project-name',\n",
    "                'Value': project_arn.split(\"/\")[-1]\n",
    "            },\n",
    "            {\n",
    "                'Key': 'sagemaker:project-id',\n",
    "                'Value': project_id\n",
    "            },\n",
    "        ]\n",
    "    )\n",
    "    print(r)\n",
    "else:\n",
    "    print(f\"The model package group {model_package_group_name} doesn't exist\")\n",
    "    \n",
    "sm.list_tags(ResourceArn=model_package_group_arn)[\"Tags\"]"
   ]
  },
  {
   "cell_type": "code",
   "execution_count": null,
   "id": "8ecd35a0-f000-463a-9be5-ffca64814359",
   "metadata": {},
   "outputs": [],
   "source": []
  },
  {
   "cell_type": "markdown",
   "id": "f760f4bd-c5d5-4bf7-b56c-11e70fa981e1",
   "metadata": {},
   "source": [
    "### 3. Modify the build specification file\n",
    "Now modify the `codebuild-buildspec.yml` file in the project folder to reflect the new name of Python module with your pipeline and set other project-specific parameters."
   ]
  },
  {
   "cell_type": "markdown",
   "id": "07928bfd-570a-4be9-a21e-7a1160e23b71",
   "metadata": {},
   "source": [
    "You need to pass the following parameters to a pipeline creation script - corresponding to the parameters of the `get_pipeline` function you've just created:\n",
    "- `input_s3_url` - an S3 URL for the input raw dataset. If you created a feature group in the notebook 3, you can use the parameter `feature_group_name` instead\n",
    "- `feature_group_name` – you can use this parameter if you created this feature group in the notebook 3, in this case you don't need to provide `input_s3_url`\n",
    "- `model_package_group_name` – the model registry package to register a model after training\n",
    "- `pipeline_name_prefix` – a name prefix for the pipeline. The pipeline name is constructed as `<pipeline_name_prefix>-<project-id>`\n",
    "- `role` – the pipeline execution role\n",
    "- `tracking_server_arn`- the MLflow server ARN for pipeline execution tracking\n",
    "\n",
    "The following cells print the values of these parameters:"
   ]
  },
  {
   "cell_type": "code",
   "execution_count": 48,
   "id": "736ce50f-b4a6-4b84-9c4e-f4a9f2c30711",
   "metadata": {
    "tags": []
   },
   "outputs": [
    {
     "name": "stdout",
     "output_type": "stream",
     "text": [
      "\n",
      "        Dataset feature group name is not defined, use input_s3_url instead:\n",
      "        ********************************************************************\n",
      "        \n",
      "        INPUT-S3-URL: s3://customer-churning-sage-maker/dataset/input/bank-additional-full.csv\n",
      "        MODEL-PACKAGE-GROUP-NAME: from-idea-to-prod-pipeline-model-22-09-26-41\n",
      "        PIPELINE-BASE-NAME: from-idea-to-prod-pipeline-22-09-26-41\n",
      "        SAGEMAKER-EXECUTION-ROLE-ARN: arn:aws:iam::356652681186:role/service-role/AmazonSageMaker-ExecutionRole-20241214T214077\n",
      "        TRACKING-SERVER-ARN: http://ec2-13-201-192-205.ap-south-1.compute.amazonaws.com:5000\n",
      "        \n"
     ]
    }
   ],
   "source": [
    "try:\n",
    "    print(f\"\"\"\n",
    "        INPUT-S3-URL: {input_s3_url}\n",
    "        FEATURE-GROUP-NAME: {dataset_feature_group_name}\n",
    "        MODEL-PACKAGE-GROUP-NAME: {model_package_group_name}\n",
    "        PIPELINE-BASE-NAME: {pipeline_name}\n",
    "        SAGEMAKER-EXECUTION-ROLE-ARN: {sm_role}\n",
    "        TRACKING-SERVER-ARN: {mlflow_arn}\n",
    "        \"\"\")\n",
    "except NameError:\n",
    "    print(f\"\"\"\n",
    "        Dataset feature group name is not defined, use input_s3_url instead:\n",
    "        ********************************************************************\n",
    "        \n",
    "        INPUT-S3-URL: {input_s3_url}\n",
    "        MODEL-PACKAGE-GROUP-NAME: {model_package_group_name}\n",
    "        PIPELINE-BASE-NAME: {pipeline_name}\n",
    "        SAGEMAKER-EXECUTION-ROLE-ARN: {sm_role}\n",
    "        TRACKING-SERVER-ARN: {mlflow_arn}\n",
    "        \"\"\")"
   ]
  },
  {
   "cell_type": "markdown",
   "id": "c12f8aa7-6bb2-40bc-824f-4dd70f8d5036",
   "metadata": {},
   "source": [
    "Now replace the value of these parameters in the following code cell with the printed values from the cell above. \n",
    "\n",
    "To do it, locate the parameter `kwargs` in the following code cell starting with `%%writefile codebuild-buildspec.yml`:\n",
    "\n",
    "```\n",
    "--kwargs \"{ \\\n",
    "    \\\"input_s3_url\\\":\\\"s3://customer-churning-sage-maker/dataset/input/bank-additional-full.csv\\\", \\\n",
    "    \\\"model_package_group_name\\\":\\\"from-idea-to-prod-pipeline-model-22-09-26-41\\\", \\\n",
    "    \\\"pipeline_name_prefix\\\":\\\"from-idea-to-prod-pipeline-22-09-26-41\\\", \\\n",
    "    \\\"role\\\":\\\"arn:aws:iam::356652681186:role/service-role/AmazonSageMaker-ExecutionRole-20241214T214077\\\", \\\n",
    "    \\\"tracking_server_arn\\\":\\\"http://ec2-3-111-57-41.ap-south-1.compute.amazonaws.com:5000\\\", \\\n",
    "    \\\"region\\\":\\\"${AWS_REGION}\\\", \\\n",
    "    \\\"sagemaker_project_name\\\":\\\"${SAGEMAKER_PROJECT_NAME}\\\", \\\n",
    "    \\\"sagemaker_project_id\\\":\\\"${SAGEMAKER_PROJECT_ID}\\\", \\\n",
    "    \\\"bucket_name\\\":\\\"${ARTIFACT_BUCKET}\\\" \\\n",
    "        }\"\n",
    "```\n",
    "\n",
    "and replace the values of `input_s3_url` OR `feature_group_name`, `model_package_group_name`, `pipeline_name_prefix`, `role`, and `tracking_server_arn` parameters with the values printed by the previous cells.\n",
    "\n",
    "You need to replace only one of `input_s3_url` or `feature_group_name` depending on what dataset input method you'd like to use - a raw input dataset from S3 or the processed featureset from the feature store. You can use the feature store only if you created it in the previous notebook. \n",
    "\n",
    "<div class=\"alert alert-info\">Delete the line with parameter that you don't use: <code>input_s3_url</code> or <code>feature_group_name</code> from the cell code.</div>\n",
    "\n",
    "![](img/codebuild-buildspec-edit.png)\n",
    "\n",
    "After you replace the values of the parameter, execute the cell to write a build spec file."
   ]
  },
  {
   "cell_type": "code",
   "execution_count": 49,
   "id": "baa0c8bf-5a4b-40ed-9323-6ae9ad85c842",
   "metadata": {
    "tags": []
   },
   "outputs": [
    {
     "name": "stdout",
     "output_type": "stream",
     "text": [
      "Overwriting codebuild-buildspec.yml\n"
     ]
    }
   ],
   "source": [
    "%%writefile codebuild-buildspec.yml\n",
    "\n",
    "version: 0.2\n",
    "\n",
    "phases:\n",
    "  install:\n",
    "    runtime-versions:\n",
    "      python: 3.10\n",
    "    commands:\n",
    "      - pip install --upgrade --force-reinstall . \"awscli>1.20.30\"\n",
    "      - pip install mlflow==2.13.2 sagemaker-mlflow s3fs xgboost\n",
    "    \n",
    "  build:\n",
    "    commands:\n",
    "      - export SAGEMAKER_USER_CONFIG_OVERRIDE=\"./config.yaml\"\n",
    "      - export PYTHONUNBUFFERED=TRUE\n",
    "      - export SAGEMAKER_PROJECT_NAME_ID=\"${SAGEMAKER_PROJECT_NAME}-${SAGEMAKER_PROJECT_ID}\"\n",
    "      - |\n",
    "        run-pipeline --module-name pipelines.fromideatoprod.pipeline \\\n",
    "          --role-arn $SAGEMAKER_PIPELINE_ROLE_ARN \\\n",
    "          --tags \"[{\\\"Key\\\":\\\"sagemaker:project-name\\\",\\\"Value\\\":\\\"${SAGEMAKER_PROJECT_NAME}\\\"}, {\\\"Key\\\":\\\"sagemaker:project-id\\\", \\\"Value\\\":\\\"${SAGEMAKER_PROJECT_ID}\\\"}]\" \\\n",
    "          --kwargs \"{ \\\n",
    "                \\\"input_s3_url\\\":\\\"s3://customer-churning-sage-maker/dataset/input/bank-additional-full.csv\\\", \\\n",
    "                \\\"model_package_group_name\\\":\\\"from-idea-to-prod-pipeline-model-22-09-26-41\\\", \\\n",
    "                \\\"pipeline_name_prefix\\\":\\\"from-idea-to-prod-pipeline-22-09-26-41\\\", \\\n",
    "                \\\"role\\\":\\\"arn:aws:iam::356652681186:role/service-role/AmazonSageMaker-ExecutionRole-20241214T214077\\\", \\\n",
    "                \\\"tracking_server_arn\\\":\\\"http://ec2-13-201-192-205.ap-south-1.compute.amazonaws.com:5000\\\", \\\n",
    "                \\\"region\\\":\\\"${AWS_REGION}\\\", \\\n",
    "                \\\"sagemaker_project_name\\\":\\\"${SAGEMAKER_PROJECT_NAME}\\\",\\\n",
    "                \\\"sagemaker_project_id\\\":\\\"${SAGEMAKER_PROJECT_ID}\\\",\\\n",
    "                \\\"bucket_name\\\":\\\"${ARTIFACT_BUCKET}\\\"\\\n",
    "                    }\"\n",
    "      - echo \"Create/update of the SageMaker Pipeline and a pipeline execution completed.\""
   ]
  },
  {
   "cell_type": "markdown",
   "id": "ffd4a948-8a46-4d75-b15a-c15d3d4873c4",
   "metadata": {},
   "source": [
    "Copy the `codebuild-buildspec.yml` file from the workshop folder to the project's code repository folder:"
   ]
  },
  {
   "cell_type": "code",
   "execution_count": 50,
   "id": "f521809e-b0fe-46a7-b49f-5afea0ab6ad2",
   "metadata": {
    "tags": []
   },
   "outputs": [],
   "source": [
    "!cp ~/{workshop_folder}/codebuild-buildspec.yml ~/{project_folder}/codebuild-buildspec.yml"
   ]
  },
  {
   "cell_type": "markdown",
   "id": "00a152ac-2237-45d9-a1a9-1b3d1738e607",
   "metadata": {},
   "source": [
    "To summarize, you have just done three changes in the build spec file:\n",
    "1. Modified the `run-pipeline` `--module-name` parameter value from `pipelines.abalone.pipeline` to the new path `pipelines.fromideatoprod.pipeline`\n",
    "2. Removed some parameters from the `kwargs` list to make use of `get_pipeline()` function default parameter values\n",
    "3. Added additional parameters for the pipeline to the `kwargs` parameter list"
   ]
  },
  {
   "cell_type": "markdown",
   "id": "e71c081b-75f2-4c06-a892-8348e9d0cd91",
   "metadata": {},
   "source": [
    "### 4. Fix the `setup.py` file\n",
    "Finally, open the `setup.py` file in the project's code repository folder and replace the line `required_packages = [\"sagemaker==2.XX.0\"]` with `required_packages = [\"sagemaker\"]`. Save your changes.\n",
    "\n",
    "Why did you do this change? The pinned sagemaker library version is a bug and is going to be fixed in future releases of the built-in SageMaker project templates. For now you fix this template file manually. Keep in mind, that the built-in project templates are for your convenience only and to demostrate how to use SageMaker project mechanism to package and provision your own custom MLOps projects.\n",
    "\n",
    "Now you are ready to launch the CI/CD model building pipeline.\n",
    "\n",
    "Everything is ready to run a CI/CD pipeline."
   ]
  },
  {
   "cell_type": "markdown",
   "id": "9fcfd6d3-2116-42e9-988b-e377fcd4b912",
   "metadata": {},
   "source": [
    "---"
   ]
  },
  {
   "cell_type": "markdown",
   "id": "d4ee8789-1d8f-4a06-a958-8c244fa9a869",
   "metadata": {},
   "source": [
    "## Run the CI/CD for the model building pipeline\n",
    "To launch the CI/CD for the model building pipeline you need to push the changed code into the project CodeCommit repository.\n",
    "\n",
    "<div class=\"alert alert-info\">Make sure you are in the folder that contains the repository code in JupyterLab terminal when running git commands. The folder name looks like <code>sagemaker-[project-name]-[project-id]-modelbuild</code>.</div>\n",
    "\n",
    "The cell below prints the required `cd` command with the correct folder name:"
   ]
  },
  {
   "cell_type": "code",
   "execution_count": 32,
   "id": "982c5ccf-6279-4c53-bfb3-8ab6cf090155",
   "metadata": {
    "tags": []
   },
   "outputs": [
    {
     "name": "stdout",
     "output_type": "stream",
     "text": [
      "cd ~/sagemaker-Sage-maker-customer-churn-8-p-lmcagz2oq3re-modelbuild\n"
     ]
    }
   ],
   "source": [
    "print(f\"cd ~/{project_folder}\")"
   ]
  },
  {
   "cell_type": "markdown",
   "id": "eee28830-a684-4329-a4f3-892a9c465805",
   "metadata": {},
   "source": [
    "Open a system terminal window via the JupyterLab menu **File** > **New** > **Terminal** and enter the following commands. Keep `user.email` and `user.name` or replace with your data.\n",
    "```sh\n",
    "cd ~/<PROJECT-FOLDER>/<PROJECT-CODE-REPOSITORY-FOLDER>\n",
    "\n",
    "git config --global user.email \"you@example.com\"\n",
    "git config --global user.name \"Your Name\"\n",
    "  \n",
    "git add -A\n",
    "git commit -am \"customize project\"\n",
    "git push\n",
    "```\n",
    "\n",
    "After pushing your code changes, the project initiates a run of the CodePipeline pipeline that constructs, upcerts, and executes the SageMaker model building pipeline. This new pipeline execution creates a new model version in the model package group in the SageMaker model registry.\n",
    "\n",
    "You can follow up the execution of the pipeline in the Studio **Pipelines** widget.\n",
    "\n",
    "Wait until the pipeline execution finishes. The execution takes about 15 minutes to complete."
   ]
  },
  {
   "cell_type": "markdown",
   "id": "e569144d-0ee8-4a53-af4d-6ea4cbedb57a",
   "metadata": {},
   "source": [
    "To see the execution of the pipeline click on the link constructed by the code cell below. Note, that CodeBuild takes about 1 minute to build upsert the pipeline and to start the execution. Refresh the Studio UI page to see the started execution."
   ]
  },
  {
   "cell_type": "code",
   "execution_count": 33,
   "id": "49315ec3-051f-432c-8039-20b3dfbabb16",
   "metadata": {},
   "outputs": [
    {
     "data": {
      "text/html": [
       "<b>See <a target=\"top\" href=\"https://studio-d-o9e9qxxwhi5b.studio.ap-south-1.sagemaker.aws/pipelines/from-idea-to-prod-pipeline-22-09-26-41-p-lmcagz2oq3re/executions/\">the pipeline executions</a> in the Studio UI</b>"
      ],
      "text/plain": [
       "<IPython.core.display.HTML object>"
      ]
     },
     "metadata": {},
     "output_type": "display_data"
    }
   ],
   "source": [
    "# Show the pipeline execution link\n",
    "display(\n",
    "    HTML('<b>See <a target=\"top\" href=\"https://studio-{}.studio.{}.sagemaker.aws/pipelines/{}/executions/\">the pipeline executions</a> in the Studio UI</b>'.format(\n",
    "            domain_id, region, p.describe()['PipelineName']))\n",
    ")"
   ]
  },
  {
   "cell_type": "markdown",
   "id": "a30f9944-4659-4e53-9d99-10a58eac4cdf",
   "metadata": {},
   "source": [
    "## View the details of a new model version\n",
    "After the pipeline execution finished, a new model version must be registered in the model registry. To see the model version details:\n",
    "\n",
    "1. In the Studio sidebar, choose the **Models** widget\n",
    "2. Click on the name of the model package group you created in the step 3 notebook (`from-idea-to-prod-pipeline-model-<TIMESTAMP>`) to open the model group\n",
    "3. In the list of model versions, select the latest version of the model\n",
    "\n",
    "On the model version tab that opens, you can browse activity, [model version details](https://docs.aws.amazon.com/sagemaker/latest/dg/model-registry-details.html), and [data lineage](https://docs.aws.amazon.com/sagemaker/latest/dg/lineage-tracking.html). \n",
    "\n",
    "![](img/model-version-details.png)\n",
    "\n",
    "In a real-world project you add various model attributes and additional model version metadata such as [model quality metrics](https://docs.aws.amazon.com/sagemaker/latest/dg/model-monitor-model-quality-metrics.html), [explainability](https://docs.aws.amazon.com/sagemaker/latest/dg/clarify-model-explainability.html) and [bias](https://docs.aws.amazon.com/sagemaker/latest/dg/clarify-measure-post-training-bias.html) reports, load test data, and [inference recommender](https://docs.aws.amazon.com/sagemaker/latest/dg/inference-recommender.html)."
   ]
  },
  {
   "cell_type": "markdown",
   "id": "dc353ff3-079e-4947-bae6-7ddb7635f670",
   "metadata": {},
   "source": [
    "To see the model package version in the Studio UI click on the link constructed by the code cell below. Note that you need to wait until the pipeline execution finishes to see the latest registered version of the model package."
   ]
  },
  {
   "cell_type": "code",
   "execution_count": 38,
   "id": "7691c5bb-85f4-4370-b964-ff7c8ccffc6b",
   "metadata": {},
   "outputs": [
    {
     "data": {
      "text/html": [
       "<b>See <a target=\"top\" href=\"https://studio-d-wxmppmljqkj5.studio.us-east-1.sagemaker.aws/models/registered-models/from-idea-to-prod-pipeline-model-23-07-51-02/versions\">the model package versions</a> in the Studio UI</b>"
      ],
      "text/plain": [
       "<IPython.core.display.HTML object>"
      ]
     },
     "metadata": {},
     "output_type": "display_data"
    }
   ],
   "source": [
    "# Show the model package link\n",
    "display(\n",
    "    HTML('<b>See <a target=\"top\" href=\"https://studio-{}.studio.{}.sagemaker.aws/models/registered-models/{}/versions\">the model package versions</a> in the Studio UI</b>'.format(\n",
    "            domain_id, region, model_package_group_name))\n",
    ")"
   ]
  },
  {
   "cell_type": "markdown",
   "id": "0b462a7b-d27c-401a-919f-0785617d1361",
   "metadata": {},
   "source": [
    "## Summary\n",
    "In this notebook you implement a CI/CD pipeline with the following features:\n",
    "- Model building ML pipeline is under the source control in a CodeCommit repository\n",
    "- Every push into the CodeCommit repository launches a new CodeBuild build which constructs, upserts, and executes the ML pipeline\n",
    "- The whole e2e model development process is automated now, including the model building pipeline\n",
    "- SageMaker project is a logical construct in Studio which has the metadata about related ML pipelines, repositories, models, experiments, and inference endpoints\n",
    "\n",
    "---"
   ]
  },
  {
   "cell_type": "markdown",
   "id": "86fcc951-0ea2-43f3-89f0-5b2982334d11",
   "metadata": {},
   "source": [
    "## Continue with the step 5\n",
    "open the step 5 [notebook](05-deploy.ipynb)."
   ]
  },
  {
   "cell_type": "markdown",
   "id": "53f175fc-3eea-4777-9047-329c5098eed7",
   "metadata": {},
   "source": [
    "# Shutdown kernel"
   ]
  },
  {
   "cell_type": "code",
   "execution_count": null,
   "id": "feb3ee45-d774-4d7d-8954-6f5479e20090",
   "metadata": {},
   "outputs": [],
   "source": [
    "%%html\n",
    "\n",
    "<p><b>Shutting down your kernel for this notebook to release resources.</b></p>\n",
    "<button class=\"sm-command-button\" data-commandlinker-command=\"kernelmenu:shutdown\" style=\"display:none;\">Shutdown Kernel</button>\n",
    "        \n",
    "<script>\n",
    "try {\n",
    "    els = document.getElementsByClassName(\"sm-command-button\");\n",
    "    els[0].click();\n",
    "}\n",
    "catch(err) {\n",
    "    // NoOp\n",
    "}    \n",
    "</script>"
   ]
  },
  {
   "cell_type": "code",
   "execution_count": null,
   "id": "b10fb645-0789-4fc4-a662-1502d7b30fd2",
   "metadata": {},
   "outputs": [],
   "source": []
  }
 ],
 "metadata": {
  "availableInstances": [
   {
    "_defaultOrder": 0,
    "_isFastLaunch": true,
    "category": "General purpose",
    "gpuNum": 0,
    "hideHardwareSpecs": false,
    "memoryGiB": 4,
    "name": "ml.t3.medium",
    "vcpuNum": 2
   },
   {
    "_defaultOrder": 1,
    "_isFastLaunch": false,
    "category": "General purpose",
    "gpuNum": 0,
    "hideHardwareSpecs": false,
    "memoryGiB": 8,
    "name": "ml.t3.large",
    "vcpuNum": 2
   },
   {
    "_defaultOrder": 2,
    "_isFastLaunch": false,
    "category": "General purpose",
    "gpuNum": 0,
    "hideHardwareSpecs": false,
    "memoryGiB": 16,
    "name": "ml.t3.xlarge",
    "vcpuNum": 4
   },
   {
    "_defaultOrder": 3,
    "_isFastLaunch": false,
    "category": "General purpose",
    "gpuNum": 0,
    "hideHardwareSpecs": false,
    "memoryGiB": 32,
    "name": "ml.t3.2xlarge",
    "vcpuNum": 8
   },
   {
    "_defaultOrder": 4,
    "_isFastLaunch": true,
    "category": "General purpose",
    "gpuNum": 0,
    "hideHardwareSpecs": false,
    "memoryGiB": 8,
    "name": "ml.m5.large",
    "vcpuNum": 2
   },
   {
    "_defaultOrder": 5,
    "_isFastLaunch": false,
    "category": "General purpose",
    "gpuNum": 0,
    "hideHardwareSpecs": false,
    "memoryGiB": 16,
    "name": "ml.m5.xlarge",
    "vcpuNum": 4
   },
   {
    "_defaultOrder": 6,
    "_isFastLaunch": false,
    "category": "General purpose",
    "gpuNum": 0,
    "hideHardwareSpecs": false,
    "memoryGiB": 32,
    "name": "ml.m5.2xlarge",
    "vcpuNum": 8
   },
   {
    "_defaultOrder": 7,
    "_isFastLaunch": false,
    "category": "General purpose",
    "gpuNum": 0,
    "hideHardwareSpecs": false,
    "memoryGiB": 64,
    "name": "ml.m5.4xlarge",
    "vcpuNum": 16
   },
   {
    "_defaultOrder": 8,
    "_isFastLaunch": false,
    "category": "General purpose",
    "gpuNum": 0,
    "hideHardwareSpecs": false,
    "memoryGiB": 128,
    "name": "ml.m5.8xlarge",
    "vcpuNum": 32
   },
   {
    "_defaultOrder": 9,
    "_isFastLaunch": false,
    "category": "General purpose",
    "gpuNum": 0,
    "hideHardwareSpecs": false,
    "memoryGiB": 192,
    "name": "ml.m5.12xlarge",
    "vcpuNum": 48
   },
   {
    "_defaultOrder": 10,
    "_isFastLaunch": false,
    "category": "General purpose",
    "gpuNum": 0,
    "hideHardwareSpecs": false,
    "memoryGiB": 256,
    "name": "ml.m5.16xlarge",
    "vcpuNum": 64
   },
   {
    "_defaultOrder": 11,
    "_isFastLaunch": false,
    "category": "General purpose",
    "gpuNum": 0,
    "hideHardwareSpecs": false,
    "memoryGiB": 384,
    "name": "ml.m5.24xlarge",
    "vcpuNum": 96
   },
   {
    "_defaultOrder": 12,
    "_isFastLaunch": false,
    "category": "General purpose",
    "gpuNum": 0,
    "hideHardwareSpecs": false,
    "memoryGiB": 8,
    "name": "ml.m5d.large",
    "vcpuNum": 2
   },
   {
    "_defaultOrder": 13,
    "_isFastLaunch": false,
    "category": "General purpose",
    "gpuNum": 0,
    "hideHardwareSpecs": false,
    "memoryGiB": 16,
    "name": "ml.m5d.xlarge",
    "vcpuNum": 4
   },
   {
    "_defaultOrder": 14,
    "_isFastLaunch": false,
    "category": "General purpose",
    "gpuNum": 0,
    "hideHardwareSpecs": false,
    "memoryGiB": 32,
    "name": "ml.m5d.2xlarge",
    "vcpuNum": 8
   },
   {
    "_defaultOrder": 15,
    "_isFastLaunch": false,
    "category": "General purpose",
    "gpuNum": 0,
    "hideHardwareSpecs": false,
    "memoryGiB": 64,
    "name": "ml.m5d.4xlarge",
    "vcpuNum": 16
   },
   {
    "_defaultOrder": 16,
    "_isFastLaunch": false,
    "category": "General purpose",
    "gpuNum": 0,
    "hideHardwareSpecs": false,
    "memoryGiB": 128,
    "name": "ml.m5d.8xlarge",
    "vcpuNum": 32
   },
   {
    "_defaultOrder": 17,
    "_isFastLaunch": false,
    "category": "General purpose",
    "gpuNum": 0,
    "hideHardwareSpecs": false,
    "memoryGiB": 192,
    "name": "ml.m5d.12xlarge",
    "vcpuNum": 48
   },
   {
    "_defaultOrder": 18,
    "_isFastLaunch": false,
    "category": "General purpose",
    "gpuNum": 0,
    "hideHardwareSpecs": false,
    "memoryGiB": 256,
    "name": "ml.m5d.16xlarge",
    "vcpuNum": 64
   },
   {
    "_defaultOrder": 19,
    "_isFastLaunch": false,
    "category": "General purpose",
    "gpuNum": 0,
    "hideHardwareSpecs": false,
    "memoryGiB": 384,
    "name": "ml.m5d.24xlarge",
    "vcpuNum": 96
   },
   {
    "_defaultOrder": 20,
    "_isFastLaunch": false,
    "category": "General purpose",
    "gpuNum": 0,
    "hideHardwareSpecs": true,
    "memoryGiB": 0,
    "name": "ml.geospatial.interactive",
    "supportedImageNames": [
     "sagemaker-geospatial-v1-0"
    ],
    "vcpuNum": 0
   },
   {
    "_defaultOrder": 21,
    "_isFastLaunch": true,
    "category": "Compute optimized",
    "gpuNum": 0,
    "hideHardwareSpecs": false,
    "memoryGiB": 4,
    "name": "ml.c5.large",
    "vcpuNum": 2
   },
   {
    "_defaultOrder": 22,
    "_isFastLaunch": false,
    "category": "Compute optimized",
    "gpuNum": 0,
    "hideHardwareSpecs": false,
    "memoryGiB": 8,
    "name": "ml.c5.xlarge",
    "vcpuNum": 4
   },
   {
    "_defaultOrder": 23,
    "_isFastLaunch": false,
    "category": "Compute optimized",
    "gpuNum": 0,
    "hideHardwareSpecs": false,
    "memoryGiB": 16,
    "name": "ml.c5.2xlarge",
    "vcpuNum": 8
   },
   {
    "_defaultOrder": 24,
    "_isFastLaunch": false,
    "category": "Compute optimized",
    "gpuNum": 0,
    "hideHardwareSpecs": false,
    "memoryGiB": 32,
    "name": "ml.c5.4xlarge",
    "vcpuNum": 16
   },
   {
    "_defaultOrder": 25,
    "_isFastLaunch": false,
    "category": "Compute optimized",
    "gpuNum": 0,
    "hideHardwareSpecs": false,
    "memoryGiB": 72,
    "name": "ml.c5.9xlarge",
    "vcpuNum": 36
   },
   {
    "_defaultOrder": 26,
    "_isFastLaunch": false,
    "category": "Compute optimized",
    "gpuNum": 0,
    "hideHardwareSpecs": false,
    "memoryGiB": 96,
    "name": "ml.c5.12xlarge",
    "vcpuNum": 48
   },
   {
    "_defaultOrder": 27,
    "_isFastLaunch": false,
    "category": "Compute optimized",
    "gpuNum": 0,
    "hideHardwareSpecs": false,
    "memoryGiB": 144,
    "name": "ml.c5.18xlarge",
    "vcpuNum": 72
   },
   {
    "_defaultOrder": 28,
    "_isFastLaunch": false,
    "category": "Compute optimized",
    "gpuNum": 0,
    "hideHardwareSpecs": false,
    "memoryGiB": 192,
    "name": "ml.c5.24xlarge",
    "vcpuNum": 96
   },
   {
    "_defaultOrder": 29,
    "_isFastLaunch": true,
    "category": "Accelerated computing",
    "gpuNum": 1,
    "hideHardwareSpecs": false,
    "memoryGiB": 16,
    "name": "ml.g4dn.xlarge",
    "vcpuNum": 4
   },
   {
    "_defaultOrder": 30,
    "_isFastLaunch": false,
    "category": "Accelerated computing",
    "gpuNum": 1,
    "hideHardwareSpecs": false,
    "memoryGiB": 32,
    "name": "ml.g4dn.2xlarge",
    "vcpuNum": 8
   },
   {
    "_defaultOrder": 31,
    "_isFastLaunch": false,
    "category": "Accelerated computing",
    "gpuNum": 1,
    "hideHardwareSpecs": false,
    "memoryGiB": 64,
    "name": "ml.g4dn.4xlarge",
    "vcpuNum": 16
   },
   {
    "_defaultOrder": 32,
    "_isFastLaunch": false,
    "category": "Accelerated computing",
    "gpuNum": 1,
    "hideHardwareSpecs": false,
    "memoryGiB": 128,
    "name": "ml.g4dn.8xlarge",
    "vcpuNum": 32
   },
   {
    "_defaultOrder": 33,
    "_isFastLaunch": false,
    "category": "Accelerated computing",
    "gpuNum": 4,
    "hideHardwareSpecs": false,
    "memoryGiB": 192,
    "name": "ml.g4dn.12xlarge",
    "vcpuNum": 48
   },
   {
    "_defaultOrder": 34,
    "_isFastLaunch": false,
    "category": "Accelerated computing",
    "gpuNum": 1,
    "hideHardwareSpecs": false,
    "memoryGiB": 256,
    "name": "ml.g4dn.16xlarge",
    "vcpuNum": 64
   },
   {
    "_defaultOrder": 35,
    "_isFastLaunch": false,
    "category": "Accelerated computing",
    "gpuNum": 1,
    "hideHardwareSpecs": false,
    "memoryGiB": 61,
    "name": "ml.p3.2xlarge",
    "vcpuNum": 8
   },
   {
    "_defaultOrder": 36,
    "_isFastLaunch": false,
    "category": "Accelerated computing",
    "gpuNum": 4,
    "hideHardwareSpecs": false,
    "memoryGiB": 244,
    "name": "ml.p3.8xlarge",
    "vcpuNum": 32
   },
   {
    "_defaultOrder": 37,
    "_isFastLaunch": false,
    "category": "Accelerated computing",
    "gpuNum": 8,
    "hideHardwareSpecs": false,
    "memoryGiB": 488,
    "name": "ml.p3.16xlarge",
    "vcpuNum": 64
   },
   {
    "_defaultOrder": 38,
    "_isFastLaunch": false,
    "category": "Accelerated computing",
    "gpuNum": 8,
    "hideHardwareSpecs": false,
    "memoryGiB": 768,
    "name": "ml.p3dn.24xlarge",
    "vcpuNum": 96
   },
   {
    "_defaultOrder": 39,
    "_isFastLaunch": false,
    "category": "Memory Optimized",
    "gpuNum": 0,
    "hideHardwareSpecs": false,
    "memoryGiB": 16,
    "name": "ml.r5.large",
    "vcpuNum": 2
   },
   {
    "_defaultOrder": 40,
    "_isFastLaunch": false,
    "category": "Memory Optimized",
    "gpuNum": 0,
    "hideHardwareSpecs": false,
    "memoryGiB": 32,
    "name": "ml.r5.xlarge",
    "vcpuNum": 4
   },
   {
    "_defaultOrder": 41,
    "_isFastLaunch": false,
    "category": "Memory Optimized",
    "gpuNum": 0,
    "hideHardwareSpecs": false,
    "memoryGiB": 64,
    "name": "ml.r5.2xlarge",
    "vcpuNum": 8
   },
   {
    "_defaultOrder": 42,
    "_isFastLaunch": false,
    "category": "Memory Optimized",
    "gpuNum": 0,
    "hideHardwareSpecs": false,
    "memoryGiB": 128,
    "name": "ml.r5.4xlarge",
    "vcpuNum": 16
   },
   {
    "_defaultOrder": 43,
    "_isFastLaunch": false,
    "category": "Memory Optimized",
    "gpuNum": 0,
    "hideHardwareSpecs": false,
    "memoryGiB": 256,
    "name": "ml.r5.8xlarge",
    "vcpuNum": 32
   },
   {
    "_defaultOrder": 44,
    "_isFastLaunch": false,
    "category": "Memory Optimized",
    "gpuNum": 0,
    "hideHardwareSpecs": false,
    "memoryGiB": 384,
    "name": "ml.r5.12xlarge",
    "vcpuNum": 48
   },
   {
    "_defaultOrder": 45,
    "_isFastLaunch": false,
    "category": "Memory Optimized",
    "gpuNum": 0,
    "hideHardwareSpecs": false,
    "memoryGiB": 512,
    "name": "ml.r5.16xlarge",
    "vcpuNum": 64
   },
   {
    "_defaultOrder": 46,
    "_isFastLaunch": false,
    "category": "Memory Optimized",
    "gpuNum": 0,
    "hideHardwareSpecs": false,
    "memoryGiB": 768,
    "name": "ml.r5.24xlarge",
    "vcpuNum": 96
   },
   {
    "_defaultOrder": 47,
    "_isFastLaunch": false,
    "category": "Accelerated computing",
    "gpuNum": 1,
    "hideHardwareSpecs": false,
    "memoryGiB": 16,
    "name": "ml.g5.xlarge",
    "vcpuNum": 4
   },
   {
    "_defaultOrder": 48,
    "_isFastLaunch": false,
    "category": "Accelerated computing",
    "gpuNum": 1,
    "hideHardwareSpecs": false,
    "memoryGiB": 32,
    "name": "ml.g5.2xlarge",
    "vcpuNum": 8
   },
   {
    "_defaultOrder": 49,
    "_isFastLaunch": false,
    "category": "Accelerated computing",
    "gpuNum": 1,
    "hideHardwareSpecs": false,
    "memoryGiB": 64,
    "name": "ml.g5.4xlarge",
    "vcpuNum": 16
   },
   {
    "_defaultOrder": 50,
    "_isFastLaunch": false,
    "category": "Accelerated computing",
    "gpuNum": 1,
    "hideHardwareSpecs": false,
    "memoryGiB": 128,
    "name": "ml.g5.8xlarge",
    "vcpuNum": 32
   },
   {
    "_defaultOrder": 51,
    "_isFastLaunch": false,
    "category": "Accelerated computing",
    "gpuNum": 1,
    "hideHardwareSpecs": false,
    "memoryGiB": 256,
    "name": "ml.g5.16xlarge",
    "vcpuNum": 64
   },
   {
    "_defaultOrder": 52,
    "_isFastLaunch": false,
    "category": "Accelerated computing",
    "gpuNum": 4,
    "hideHardwareSpecs": false,
    "memoryGiB": 192,
    "name": "ml.g5.12xlarge",
    "vcpuNum": 48
   },
   {
    "_defaultOrder": 53,
    "_isFastLaunch": false,
    "category": "Accelerated computing",
    "gpuNum": 4,
    "hideHardwareSpecs": false,
    "memoryGiB": 384,
    "name": "ml.g5.24xlarge",
    "vcpuNum": 96
   },
   {
    "_defaultOrder": 54,
    "_isFastLaunch": false,
    "category": "Accelerated computing",
    "gpuNum": 8,
    "hideHardwareSpecs": false,
    "memoryGiB": 768,
    "name": "ml.g5.48xlarge",
    "vcpuNum": 192
   },
   {
    "_defaultOrder": 55,
    "_isFastLaunch": false,
    "category": "Accelerated computing",
    "gpuNum": 8,
    "hideHardwareSpecs": false,
    "memoryGiB": 1152,
    "name": "ml.p4d.24xlarge",
    "vcpuNum": 96
   },
   {
    "_defaultOrder": 56,
    "_isFastLaunch": false,
    "category": "Accelerated computing",
    "gpuNum": 8,
    "hideHardwareSpecs": false,
    "memoryGiB": 1152,
    "name": "ml.p4de.24xlarge",
    "vcpuNum": 96
   },
   {
    "_defaultOrder": 57,
    "_isFastLaunch": false,
    "category": "Accelerated computing",
    "gpuNum": 0,
    "hideHardwareSpecs": false,
    "memoryGiB": 32,
    "name": "ml.trn1.2xlarge",
    "vcpuNum": 8
   },
   {
    "_defaultOrder": 58,
    "_isFastLaunch": false,
    "category": "Accelerated computing",
    "gpuNum": 0,
    "hideHardwareSpecs": false,
    "memoryGiB": 512,
    "name": "ml.trn1.32xlarge",
    "vcpuNum": 128
   },
   {
    "_defaultOrder": 59,
    "_isFastLaunch": false,
    "category": "Accelerated computing",
    "gpuNum": 0,
    "hideHardwareSpecs": false,
    "memoryGiB": 512,
    "name": "ml.trn1n.32xlarge",
    "vcpuNum": 128
   }
  ],
  "instance_type": "ml.t3.medium",
  "kernelspec": {
   "display_name": "Python 3 (ipykernel)",
   "language": "python",
   "name": "python3"
  },
  "language_info": {
   "codemirror_mode": {
    "name": "ipython",
    "version": 3
   },
   "file_extension": ".py",
   "mimetype": "text/x-python",
   "name": "python",
   "nbconvert_exporter": "python",
   "pygments_lexer": "ipython3",
   "version": "3.11.10"
  }
 },
 "nbformat": 4,
 "nbformat_minor": 5
}
